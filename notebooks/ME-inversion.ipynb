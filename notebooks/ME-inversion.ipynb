{
 "cells": [
  {
   "cell_type": "markdown",
   "id": "e6dbfc9b",
   "metadata": {},
   "source": [
    "# ME-обращение с ошибками"
   ]
  },
  {
   "cell_type": "code",
   "execution_count": 1,
   "id": "dad38a31-0c81-4f93-9544-f5c699e24a4d",
   "metadata": {},
   "outputs": [],
   "source": [
    "import sys\n",
    "sys.path.append('..')"
   ]
  },
  {
   "cell_type": "code",
   "execution_count": 2,
   "id": "15ed4876",
   "metadata": {},
   "outputs": [],
   "source": [
    "import time\n",
    "\n",
    "import numpy as np\n",
    "import pandas as pd\n",
    "\n",
    "from scipy.optimize import curve_fit\n",
    "\n",
    "from tqdm.auto import tqdm"
   ]
  },
  {
   "cell_type": "code",
   "execution_count": 3,
   "id": "7ffb60ed",
   "metadata": {},
   "outputs": [],
   "source": [
    "import torch\n",
    "\n",
    "from inverse_problem import me_model\n",
    "from inverse_problem import PregenSpectrumDataset\n",
    "from inverse_problem.nn_inversion.posthoc import open_param_file\n",
    "from inverse_problem.nn_inversion.transforms import inverse_transformation\n",
    "\n",
    "from inverse_problem.nn_inversion.model_pi_mlp_conv import PIMLPConvNet\n",
    "from inverse_problem.nn_inversion import conv1d_transform_rescale\n",
    "\n",
    "\n",
    "np.set_printoptions(suppress=True)\n",
    "\n",
    "%matplotlib inline\n",
    "%load_ext autoreload\n",
    "%autoreload 2"
   ]
  },
  {
   "cell_type": "code",
   "execution_count": 4,
   "id": "a5a39e17",
   "metadata": {},
   "outputs": [],
   "source": [
    "path_to_refer = '../data/hinode_source/20140510_105533.fits'\n",
    "\n",
    "ref, names = open_param_file(path_to_refer, normalize=False, print_params=False)\n",
    "parameter_base = ref.reshape(-1, 11)"
   ]
  },
  {
   "cell_type": "code",
   "execution_count": 5,
   "id": "b5a1b409",
   "metadata": {},
   "outputs": [],
   "source": [
    "def me_lm_prepare(line_arg, *params):\n",
    "    line_vec = (6302.5, 2.5, 1)\n",
    "    param_vec = np.array([*params])\n",
    "    lines = me_model(param_vec, line_arg, line_vec, with_ff=True, with_noise=False, norm=False)\n",
    "    return lines.reshape(1, -1, order='F').flatten()"
   ]
  },
  {
   "cell_type": "code",
   "execution_count": 6,
   "id": "ff19b994",
   "metadata": {},
   "outputs": [],
   "source": [
    "def get_lines(param_vec):\n",
    "    line_vec = (6302.5, 2.5, 1)\n",
    "    line_arg = 1000 * (np.linspace(6302.0692255, 6303.2544205, 56) - line_vec[0])\n",
    "    \n",
    "    real_lines = me_model(param_vec, line_arg, line_vec, with_ff=True, with_noise=True, norm=False)\n",
    "    \n",
    "    return real_lines.reshape(1, -1, order='F').flatten()\n",
    "\n",
    "\n",
    "def predict_one_pixel(param_vec, start_p=None):\n",
    "    start = time.time()\n",
    "\n",
    "    lines = get_lines(param_vec)\n",
    "    \n",
    "    if start_p is None:\n",
    "        start_p =  [530, 91, 89, 33, 0.31, 12, 27083, 19567, 0.04, 0.5, 0.36]\n",
    "    \n",
    "    max_ = [5000, 180, 180, 90, 1.5, 100, 38603, 60464, 10, 1, 10]\n",
    "    min_ = [0, 0, 0, 20, 0, 0.01, 0, 0, -10, 0, -10]\n",
    "\n",
    "    line_arg = 1000 * (np.linspace(6302.0692255, 6303.2544205, 56) - 6302.5)\n",
    "    \n",
    "    try:\n",
    "        out = curve_fit(me_lm_prepare, xdata=line_arg, ydata=lines, bounds=(min_, max_), p0=start_p)\n",
    "    except:\n",
    "        out = (np.array(start_p), np.zeros((11, 11)))\n",
    "    \n",
    "    elapsed = (time.time() - start)\n",
    "   \n",
    "    pcov = out[1]\n",
    "    perr = np.sqrt(np.diag(pcov))\n",
    "    \n",
    "    data = np.concatenate([param_vec.reshape(11, -1), out[0].reshape(11, -1), perr.reshape(11, -1)], axis=1)\n",
    "    \n",
    "    return data, elapsed"
   ]
  },
  {
   "cell_type": "markdown",
   "id": "0a1bf6f0",
   "metadata": {},
   "source": [
    "## Параметры"
   ]
  },
  {
   "cell_type": "code",
   "execution_count": 7,
   "id": "97e53383",
   "metadata": {},
   "outputs": [],
   "source": [
    "batch_size = 4096"
   ]
  },
  {
   "cell_type": "markdown",
   "id": "f3a1daaa",
   "metadata": {},
   "source": [
    "## Модельные спектры"
   ]
  },
  {
   "cell_type": "code",
   "execution_count": 8,
   "id": "51b37326",
   "metadata": {},
   "outputs": [],
   "source": [
    "def me_comp(batch_size=1024, mode='standart', start_p=None):\n",
    "    parameter_base_length = parameter_base.shape[0]\n",
    "    n_batches = parameter_base_length // batch_size\n",
    "\n",
    "    batch_num = 0\n",
    "    \n",
    "    res_ar = np.zeros((batch_size, 11, 3))\n",
    "    time_ar = np.zeros((batch_size, 1))\n",
    "    \n",
    "    pbar1 = tqdm(total=n_batches, position=0, desc='Batches')\n",
    "    pbar2 = tqdm(total=batch_size, position=1, desc='Batch', leave=False)\n",
    "    \n",
    "    if mode == 'standart':\n",
    "        save_names = ['../me-inv-with-sigmas/params_comp_',\n",
    "                      '../me-inv-with-sigmas/time_']\n",
    "    elif mode == 'NN':\n",
    "        save_names = ['../me-inv-with-sigmas/params_comp_NN_',\n",
    "                      '../me-inv-with-sigmas/time_NN_']\n",
    "        assert start_p is not None\n",
    "    else:\n",
    "        raise NotImplemented\n",
    "\n",
    "    \n",
    "    for i in range(parameter_base_length):\n",
    "        res_ar[i - batch_num * batch_size, ...], time_ar[i - batch_num * batch_size] = predict_one_pixel(parameter_base[i],\n",
    "                                                                                                         start_p=None if start_p is None else start_p[i]) \n",
    "        \n",
    "        pbar2.update()\n",
    "        \n",
    "        if (i == batch_size * (batch_num + 1) - 1 and i > 0) or i == parameter_base_length - 1:\n",
    "            np.save(save_names[0] + f'{batch_size}_{batch_num}', res_ar)\n",
    "            np.save(save_names[1] + f'{batch_size}_{batch_num}', time_ar)\n",
    "            \n",
    "            batch_num += 1\n",
    "            \n",
    "            pbar1.update(1)\n",
    "            \n",
    "            pbar2.close()\n",
    "            pbar2 = tqdm(total=batch_size, position=1, desc='Batch', leave=False)\n",
    "            \n",
    "            if parameter_base_length - i > batch_size:\n",
    "                res_ar = np.zeros((batch_size, 11, 3))\n",
    "                time_ar = np.zeros((batch_size, 1))\n",
    "            else:\n",
    "                size_0 = parameter_base_length - i - 1\n",
    "                res_ar = np.zeros((size_0, 11, 3))\n",
    "                time_ar = np.zeros((size_0, 1))        "
   ]
  },
  {
   "cell_type": "markdown",
   "id": "590cba56",
   "metadata": {},
   "source": [
    "### Старт из среднего"
   ]
  },
  {
   "cell_type": "markdown",
   "id": "b19d0958",
   "metadata": {},
   "source": [
    "---"
   ]
  },
  {
   "cell_type": "code",
   "execution_count": 9,
   "id": "99e5f641",
   "metadata": {},
   "outputs": [
    {
     "name": "stdout",
     "output_type": "stream",
     "text": [
      "12398\n",
      "152.1289.0678.0420.180.02100.05955.569807.231.060.190.1\n"
     ]
    }
   ],
   "source": [
    "idx_0 = 12398\n",
    "test_params_0 = parameter_base[idx_0]\n",
    "print(idx_0, '\\n', *test_params_0.round(2), sep='')"
   ]
  },
  {
   "cell_type": "code",
   "execution_count": 10,
   "id": "327e27b3",
   "metadata": {},
   "outputs": [],
   "source": [
    "out, tm = predict_one_pixel(test_params_0)"
   ]
  },
  {
   "cell_type": "markdown",
   "id": "6e1eee26",
   "metadata": {},
   "source": [
    "---"
   ]
  },
  {
   "cell_type": "code",
   "execution_count": null,
   "id": "e9e5a830",
   "metadata": {
    "scrolled": true
   },
   "outputs": [
    {
     "data": {
      "application/vnd.jupyter.widget-view+json": {
       "model_id": "22b17e4d2f8a41f295fb62ffc642deac",
       "version_major": 2,
       "version_minor": 0
      },
      "text/plain": [
       "Batches:   0%|          | 0/109 [00:00<?, ?it/s]"
      ]
     },
     "metadata": {},
     "output_type": "display_data"
    },
    {
     "data": {
      "application/vnd.jupyter.widget-view+json": {
       "model_id": "",
       "version_major": 2,
       "version_minor": 0
      },
      "text/plain": [
       "Batch:   0%|          | 0/4096 [00:00<?, ?it/s]"
      ]
     },
     "metadata": {},
     "output_type": "display_data"
    },
    {
     "data": {
      "application/vnd.jupyter.widget-view+json": {
       "model_id": "",
       "version_major": 2,
       "version_minor": 0
      },
      "text/plain": [
       "Batch:   0%|          | 0/4096 [00:00<?, ?it/s]"
      ]
     },
     "metadata": {},
     "output_type": "display_data"
    },
    {
     "data": {
      "application/vnd.jupyter.widget-view+json": {
       "model_id": "",
       "version_major": 2,
       "version_minor": 0
      },
      "text/plain": [
       "Batch:   0%|          | 0/4096 [00:00<?, ?it/s]"
      ]
     },
     "metadata": {},
     "output_type": "display_data"
    },
    {
     "data": {
      "application/vnd.jupyter.widget-view+json": {
       "model_id": "",
       "version_major": 2,
       "version_minor": 0
      },
      "text/plain": [
       "Batch:   0%|          | 0/4096 [00:00<?, ?it/s]"
      ]
     },
     "metadata": {},
     "output_type": "display_data"
    },
    {
     "data": {
      "application/vnd.jupyter.widget-view+json": {
       "model_id": "",
       "version_major": 2,
       "version_minor": 0
      },
      "text/plain": [
       "Batch:   0%|          | 0/4096 [00:00<?, ?it/s]"
      ]
     },
     "metadata": {},
     "output_type": "display_data"
    },
    {
     "data": {
      "application/vnd.jupyter.widget-view+json": {
       "model_id": "",
       "version_major": 2,
       "version_minor": 0
      },
      "text/plain": [
       "Batch:   0%|          | 0/4096 [00:00<?, ?it/s]"
      ]
     },
     "metadata": {},
     "output_type": "display_data"
    },
    {
     "data": {
      "application/vnd.jupyter.widget-view+json": {
       "model_id": "",
       "version_major": 2,
       "version_minor": 0
      },
      "text/plain": [
       "Batch:   0%|          | 0/4096 [00:00<?, ?it/s]"
      ]
     },
     "metadata": {},
     "output_type": "display_data"
    },
    {
     "data": {
      "application/vnd.jupyter.widget-view+json": {
       "model_id": "",
       "version_major": 2,
       "version_minor": 0
      },
      "text/plain": [
       "Batch:   0%|          | 0/4096 [00:00<?, ?it/s]"
      ]
     },
     "metadata": {},
     "output_type": "display_data"
    },
    {
     "data": {
      "application/vnd.jupyter.widget-view+json": {
       "model_id": "",
       "version_major": 2,
       "version_minor": 0
      },
      "text/plain": [
       "Batch:   0%|          | 0/4096 [00:00<?, ?it/s]"
      ]
     },
     "metadata": {},
     "output_type": "display_data"
    },
    {
     "data": {
      "application/vnd.jupyter.widget-view+json": {
       "model_id": "",
       "version_major": 2,
       "version_minor": 0
      },
      "text/plain": [
       "Batch:   0%|          | 0/4096 [00:00<?, ?it/s]"
      ]
     },
     "metadata": {},
     "output_type": "display_data"
    },
    {
     "data": {
      "application/vnd.jupyter.widget-view+json": {
       "model_id": "",
       "version_major": 2,
       "version_minor": 0
      },
      "text/plain": [
       "Batch:   0%|          | 0/4096 [00:00<?, ?it/s]"
      ]
     },
     "metadata": {},
     "output_type": "display_data"
    },
    {
     "data": {
      "application/vnd.jupyter.widget-view+json": {
       "model_id": "",
       "version_major": 2,
       "version_minor": 0
      },
      "text/plain": [
       "Batch:   0%|          | 0/4096 [00:00<?, ?it/s]"
      ]
     },
     "metadata": {},
     "output_type": "display_data"
    },
    {
     "data": {
      "application/vnd.jupyter.widget-view+json": {
       "model_id": "",
       "version_major": 2,
       "version_minor": 0
      },
      "text/plain": [
       "Batch:   0%|          | 0/4096 [00:00<?, ?it/s]"
      ]
     },
     "metadata": {},
     "output_type": "display_data"
    },
    {
     "data": {
      "application/vnd.jupyter.widget-view+json": {
       "model_id": "",
       "version_major": 2,
       "version_minor": 0
      },
      "text/plain": [
       "Batch:   0%|          | 0/4096 [00:00<?, ?it/s]"
      ]
     },
     "metadata": {},
     "output_type": "display_data"
    },
    {
     "data": {
      "application/vnd.jupyter.widget-view+json": {
       "model_id": "",
       "version_major": 2,
       "version_minor": 0
      },
      "text/plain": [
       "Batch:   0%|          | 0/4096 [00:00<?, ?it/s]"
      ]
     },
     "metadata": {},
     "output_type": "display_data"
    },
    {
     "data": {
      "application/vnd.jupyter.widget-view+json": {
       "model_id": "",
       "version_major": 2,
       "version_minor": 0
      },
      "text/plain": [
       "Batch:   0%|          | 0/4096 [00:00<?, ?it/s]"
      ]
     },
     "metadata": {},
     "output_type": "display_data"
    },
    {
     "data": {
      "application/vnd.jupyter.widget-view+json": {
       "model_id": "",
       "version_major": 2,
       "version_minor": 0
      },
      "text/plain": [
       "Batch:   0%|          | 0/4096 [00:00<?, ?it/s]"
      ]
     },
     "metadata": {},
     "output_type": "display_data"
    },
    {
     "data": {
      "application/vnd.jupyter.widget-view+json": {
       "model_id": "",
       "version_major": 2,
       "version_minor": 0
      },
      "text/plain": [
       "Batch:   0%|          | 0/4096 [00:00<?, ?it/s]"
      ]
     },
     "metadata": {},
     "output_type": "display_data"
    },
    {
     "data": {
      "application/vnd.jupyter.widget-view+json": {
       "model_id": "",
       "version_major": 2,
       "version_minor": 0
      },
      "text/plain": [
       "Batch:   0%|          | 0/4096 [00:00<?, ?it/s]"
      ]
     },
     "metadata": {},
     "output_type": "display_data"
    },
    {
     "data": {
      "application/vnd.jupyter.widget-view+json": {
       "model_id": "",
       "version_major": 2,
       "version_minor": 0
      },
      "text/plain": [
       "Batch:   0%|          | 0/4096 [00:00<?, ?it/s]"
      ]
     },
     "metadata": {},
     "output_type": "display_data"
    },
    {
     "data": {
      "application/vnd.jupyter.widget-view+json": {
       "model_id": "",
       "version_major": 2,
       "version_minor": 0
      },
      "text/plain": [
       "Batch:   0%|          | 0/4096 [00:00<?, ?it/s]"
      ]
     },
     "metadata": {},
     "output_type": "display_data"
    },
    {
     "data": {
      "application/vnd.jupyter.widget-view+json": {
       "model_id": "",
       "version_major": 2,
       "version_minor": 0
      },
      "text/plain": [
       "Batch:   0%|          | 0/4096 [00:00<?, ?it/s]"
      ]
     },
     "metadata": {},
     "output_type": "display_data"
    },
    {
     "data": {
      "application/vnd.jupyter.widget-view+json": {
       "model_id": "",
       "version_major": 2,
       "version_minor": 0
      },
      "text/plain": [
       "Batch:   0%|          | 0/4096 [00:00<?, ?it/s]"
      ]
     },
     "metadata": {},
     "output_type": "display_data"
    },
    {
     "data": {
      "application/vnd.jupyter.widget-view+json": {
       "model_id": "",
       "version_major": 2,
       "version_minor": 0
      },
      "text/plain": [
       "Batch:   0%|          | 0/4096 [00:00<?, ?it/s]"
      ]
     },
     "metadata": {},
     "output_type": "display_data"
    },
    {
     "data": {
      "application/vnd.jupyter.widget-view+json": {
       "model_id": "",
       "version_major": 2,
       "version_minor": 0
      },
      "text/plain": [
       "Batch:   0%|          | 0/4096 [00:00<?, ?it/s]"
      ]
     },
     "metadata": {},
     "output_type": "display_data"
    },
    {
     "data": {
      "application/vnd.jupyter.widget-view+json": {
       "model_id": "",
       "version_major": 2,
       "version_minor": 0
      },
      "text/plain": [
       "Batch:   0%|          | 0/4096 [00:00<?, ?it/s]"
      ]
     },
     "metadata": {},
     "output_type": "display_data"
    },
    {
     "data": {
      "application/vnd.jupyter.widget-view+json": {
       "model_id": "",
       "version_major": 2,
       "version_minor": 0
      },
      "text/plain": [
       "Batch:   0%|          | 0/4096 [00:00<?, ?it/s]"
      ]
     },
     "metadata": {},
     "output_type": "display_data"
    },
    {
     "data": {
      "application/vnd.jupyter.widget-view+json": {
       "model_id": "",
       "version_major": 2,
       "version_minor": 0
      },
      "text/plain": [
       "Batch:   0%|          | 0/4096 [00:00<?, ?it/s]"
      ]
     },
     "metadata": {},
     "output_type": "display_data"
    },
    {
     "data": {
      "application/vnd.jupyter.widget-view+json": {
       "model_id": "",
       "version_major": 2,
       "version_minor": 0
      },
      "text/plain": [
       "Batch:   0%|          | 0/4096 [00:00<?, ?it/s]"
      ]
     },
     "metadata": {},
     "output_type": "display_data"
    },
    {
     "data": {
      "application/vnd.jupyter.widget-view+json": {
       "model_id": "",
       "version_major": 2,
       "version_minor": 0
      },
      "text/plain": [
       "Batch:   0%|          | 0/4096 [00:00<?, ?it/s]"
      ]
     },
     "metadata": {},
     "output_type": "display_data"
    },
    {
     "data": {
      "application/vnd.jupyter.widget-view+json": {
       "model_id": "",
       "version_major": 2,
       "version_minor": 0
      },
      "text/plain": [
       "Batch:   0%|          | 0/4096 [00:00<?, ?it/s]"
      ]
     },
     "metadata": {},
     "output_type": "display_data"
    },
    {
     "data": {
      "application/vnd.jupyter.widget-view+json": {
       "model_id": "",
       "version_major": 2,
       "version_minor": 0
      },
      "text/plain": [
       "Batch:   0%|          | 0/4096 [00:00<?, ?it/s]"
      ]
     },
     "metadata": {},
     "output_type": "display_data"
    },
    {
     "data": {
      "application/vnd.jupyter.widget-view+json": {
       "model_id": "",
       "version_major": 2,
       "version_minor": 0
      },
      "text/plain": [
       "Batch:   0%|          | 0/4096 [00:00<?, ?it/s]"
      ]
     },
     "metadata": {},
     "output_type": "display_data"
    },
    {
     "data": {
      "application/vnd.jupyter.widget-view+json": {
       "model_id": "",
       "version_major": 2,
       "version_minor": 0
      },
      "text/plain": [
       "Batch:   0%|          | 0/4096 [00:00<?, ?it/s]"
      ]
     },
     "metadata": {},
     "output_type": "display_data"
    },
    {
     "data": {
      "application/vnd.jupyter.widget-view+json": {
       "model_id": "",
       "version_major": 2,
       "version_minor": 0
      },
      "text/plain": [
       "Batch:   0%|          | 0/4096 [00:00<?, ?it/s]"
      ]
     },
     "metadata": {},
     "output_type": "display_data"
    },
    {
     "data": {
      "application/vnd.jupyter.widget-view+json": {
       "model_id": "",
       "version_major": 2,
       "version_minor": 0
      },
      "text/plain": [
       "Batch:   0%|          | 0/4096 [00:00<?, ?it/s]"
      ]
     },
     "metadata": {},
     "output_type": "display_data"
    },
    {
     "data": {
      "application/vnd.jupyter.widget-view+json": {
       "model_id": "",
       "version_major": 2,
       "version_minor": 0
      },
      "text/plain": [
       "Batch:   0%|          | 0/4096 [00:00<?, ?it/s]"
      ]
     },
     "metadata": {},
     "output_type": "display_data"
    },
    {
     "data": {
      "application/vnd.jupyter.widget-view+json": {
       "model_id": "",
       "version_major": 2,
       "version_minor": 0
      },
      "text/plain": [
       "Batch:   0%|          | 0/4096 [00:00<?, ?it/s]"
      ]
     },
     "metadata": {},
     "output_type": "display_data"
    },
    {
     "data": {
      "application/vnd.jupyter.widget-view+json": {
       "model_id": "61d27dba5f06430eb19d40bbd4df2521",
       "version_major": 2,
       "version_minor": 0
      },
      "text/plain": [
       "Batch:   0%|          | 0/4096 [00:00<?, ?it/s]"
      ]
     },
     "metadata": {},
     "output_type": "display_data"
    },
    {
     "data": {
      "application/vnd.jupyter.widget-view+json": {
       "model_id": "",
       "version_major": 2,
       "version_minor": 0
      },
      "text/plain": [
       "Batch:   0%|          | 0/4096 [00:00<?, ?it/s]"
      ]
     },
     "metadata": {},
     "output_type": "display_data"
    },
    {
     "data": {
      "application/vnd.jupyter.widget-view+json": {
       "model_id": "",
       "version_major": 2,
       "version_minor": 0
      },
      "text/plain": [
       "Batch:   0%|          | 0/4096 [00:00<?, ?it/s]"
      ]
     },
     "metadata": {},
     "output_type": "display_data"
    },
    {
     "data": {
      "application/vnd.jupyter.widget-view+json": {
       "model_id": "8da93af19e874e0fa32232054df46be6",
       "version_major": 2,
       "version_minor": 0
      },
      "text/plain": [
       "Batch:   0%|          | 0/4096 [00:00<?, ?it/s]"
      ]
     },
     "metadata": {},
     "output_type": "display_data"
    }
   ],
   "source": [
    "me_comp(batch_size=batch_size)"
   ]
  },
  {
   "cell_type": "code",
   "execution_count": 27,
   "id": "4b78421d",
   "metadata": {},
   "outputs": [],
   "source": [
    "batch_num = 0\n",
    "\n",
    "results = np.load(f'../me-inv-with-sigmas/params_comp_{batch_size}_{batch_num}.npy')\n",
    "elapsed_t = np.load(f'../me-inv-with-sigmas/time_{batch_size}_{batch_num}.npy')"
   ]
  },
  {
   "cell_type": "code",
   "execution_count": 28,
   "id": "136dea69",
   "metadata": {},
   "outputs": [
    {
     "name": "stdout",
     "output_type": "stream",
     "text": [
      "Затраченное на вычисление время: 0.1 секунд\n"
     ]
    },
    {
     "data": {
      "text/html": [
       "<div>\n",
       "<style scoped>\n",
       "    .dataframe tbody tr th:only-of-type {\n",
       "        vertical-align: middle;\n",
       "    }\n",
       "\n",
       "    .dataframe tbody tr th {\n",
       "        vertical-align: top;\n",
       "    }\n",
       "\n",
       "    .dataframe thead th {\n",
       "        text-align: right;\n",
       "    }\n",
       "</style>\n",
       "<table border=\"1\" class=\"dataframe\">\n",
       "  <thead>\n",
       "    <tr style=\"text-align: right;\">\n",
       "      <th></th>\n",
       "      <th>target</th>\n",
       "      <th>predicted</th>\n",
       "      <th>sigmas</th>\n",
       "    </tr>\n",
       "  </thead>\n",
       "  <tbody>\n",
       "    <tr>\n",
       "      <th>0</th>\n",
       "      <td>1400.28</td>\n",
       "      <td>1425.16</td>\n",
       "      <td>15.72</td>\n",
       "    </tr>\n",
       "    <tr>\n",
       "      <th>1</th>\n",
       "      <td>32.97</td>\n",
       "      <td>32.89</td>\n",
       "      <td>0.75</td>\n",
       "    </tr>\n",
       "    <tr>\n",
       "      <th>2</th>\n",
       "      <td>177.85</td>\n",
       "      <td>178.82</td>\n",
       "      <td>1.27</td>\n",
       "    </tr>\n",
       "    <tr>\n",
       "      <th>3</th>\n",
       "      <td>38.84</td>\n",
       "      <td>41.51</td>\n",
       "      <td>1.14</td>\n",
       "    </tr>\n",
       "    <tr>\n",
       "      <th>4</th>\n",
       "      <td>0.27</td>\n",
       "      <td>0.23</td>\n",
       "      <td>0.02</td>\n",
       "    </tr>\n",
       "    <tr>\n",
       "      <th>5</th>\n",
       "      <td>2.50</td>\n",
       "      <td>1.80</td>\n",
       "      <td>0.23</td>\n",
       "    </tr>\n",
       "    <tr>\n",
       "      <th>6</th>\n",
       "      <td>12836.86</td>\n",
       "      <td>10302.78</td>\n",
       "      <td>1275.28</td>\n",
       "    </tr>\n",
       "    <tr>\n",
       "      <th>7</th>\n",
       "      <td>18536.04</td>\n",
       "      <td>21070.43</td>\n",
       "      <td>1273.46</td>\n",
       "    </tr>\n",
       "    <tr>\n",
       "      <th>8</th>\n",
       "      <td>0.14</td>\n",
       "      <td>0.13</td>\n",
       "      <td>0.02</td>\n",
       "    </tr>\n",
       "    <tr>\n",
       "      <th>9</th>\n",
       "      <td>0.56</td>\n",
       "      <td>0.55</td>\n",
       "      <td>0.01</td>\n",
       "    </tr>\n",
       "    <tr>\n",
       "      <th>10</th>\n",
       "      <td>0.50</td>\n",
       "      <td>0.53</td>\n",
       "      <td>0.02</td>\n",
       "    </tr>\n",
       "  </tbody>\n",
       "</table>\n",
       "</div>"
      ],
      "text/plain": [
       "      target  predicted   sigmas\n",
       "0    1400.28    1425.16    15.72\n",
       "1      32.97      32.89     0.75\n",
       "2     177.85     178.82     1.27\n",
       "3      38.84      41.51     1.14\n",
       "4       0.27       0.23     0.02\n",
       "5       2.50       1.80     0.23\n",
       "6   12836.86   10302.78  1275.28\n",
       "7   18536.04   21070.43  1273.46\n",
       "8       0.14       0.13     0.02\n",
       "9       0.56       0.55     0.01\n",
       "10      0.50       0.53     0.02"
      ]
     },
     "execution_count": 28,
     "metadata": {},
     "output_type": "execute_result"
    }
   ],
   "source": [
    "par_ind = 0\n",
    "\n",
    "df1 = pd.DataFrame(results[par_ind], columns = ['target', 'predicted', 'sigmas'])\n",
    "\n",
    "print('Затраченное на вычисление время:', np.round(elapsed_t[par_ind][0], 2), 'секунд')\n",
    "df1.round(2)"
   ]
  },
  {
   "cell_type": "markdown",
   "id": "842fe094",
   "metadata": {},
   "source": [
    "## Старт из нейропрогноза"
   ]
  },
  {
   "cell_type": "markdown",
   "id": "c3a75e0b",
   "metadata": {},
   "source": [
    "### Инициализация модели"
   ]
  },
  {
   "cell_type": "code",
   "execution_count": null,
   "id": "4989d675",
   "metadata": {},
   "outputs": [],
   "source": [
    "device = torch.device('cuda:0' if torch.cuda.is_available() else 'cpu')\n",
    "\n",
    "print(device.type)"
   ]
  },
  {
   "cell_type": "code",
   "execution_count": null,
   "id": "19ff2ef9",
   "metadata": {},
   "outputs": [],
   "source": [
    "model = PIMLPConvNet(n_blocks=6, in_dim=(4, 64, 64, 128, 128, 256), out_dim=(64, 64, 128, 128, 256, 256),\n",
    "                     kernel_size=(3, 3, 3, 3, 3, 3), padding=(1, 1, 1, 1, 1, 1), activation='elu', dropout=0.05,\n",
    "                     batch_norm=True, pool=(None, 'max', None, 'max', None, None), hidden_dims=(100, 100),\n",
    "                     bottom_output=100, number_readout_layers=2, top_output=11)"
   ]
  },
  {
   "cell_type": "code",
   "execution_count": null,
   "id": "e137bdb4",
   "metadata": {},
   "outputs": [],
   "source": [
    "checkpoint_path = '../models/wl_model_2022-02-27_03-11/wl_model_ep4.pt'\n",
    "model.load_state_dict(torch.load(checkpoint_path, map_location=device)['model_state_dict'])"
   ]
  },
  {
   "cell_type": "markdown",
   "id": "94812c15",
   "metadata": {},
   "source": [
    "### Предсказание"
   ]
  },
  {
   "cell_type": "code",
   "execution_count": null,
   "id": "c710b291",
   "metadata": {},
   "outputs": [],
   "source": [
    "factors, cont_scale = [1, 1000, 1000, 1000], 40000\n",
    "angle_transformation, logB = True, True\n",
    "\n",
    "transform_name = \"conv1d_transform_rescale\"\n",
    "\n",
    "transform = conv1d_transform_rescale(factors=factors, \n",
    "                                     angle_transformation=angle_transformation,\n",
    "                                     cont_scale=cont_scale, logB=logB)"
   ]
  },
  {
   "cell_type": "code",
   "execution_count": null,
   "id": "04998c17",
   "metadata": {},
   "outputs": [],
   "source": [
    "test_dataset = PregenSpectrumDataset(data_arr=parameter_base,\n",
    "                                     transform=transform)"
   ]
  },
  {
   "cell_type": "code",
   "execution_count": null,
   "id": "00db0d02-5358-421b-a534-84d00481e10f",
   "metadata": {},
   "outputs": [],
   "source": [
    "inputs = test_dataset.samples\n",
    "sim_x = [inputs['X'][0].to(device), inputs['X'][1].to(device)]\n",
    "y = inputs['Y'].to(device)"
   ]
  },
  {
   "cell_type": "code",
   "execution_count": null,
   "id": "a901dbcf",
   "metadata": {},
   "outputs": [],
   "source": [
    "model.eval()\n",
    "with torch.no_grad():\n",
    "    predicted = model(sim_x)\n",
    "        \n",
    "predicted = predicted.numpy()\n",
    "predicted[:, 1:3] = np.clip(predicted[:, 1:3], 0, 1)    \n",
    "        \n",
    "model_pred = inverse_transformation(predicted,\n",
    "                                    inv_logB=logB,\n",
    "                                    inv_angle_transformation=angle_transformation)"
   ]
  },
  {
   "cell_type": "code",
   "execution_count": null,
   "id": "b532a546",
   "metadata": {
    "scrolled": true
   },
   "outputs": [],
   "source": [
    "me_comp(batch_size=batch_size, mode='NN', start_p=model_pred)"
   ]
  },
  {
   "cell_type": "code",
   "execution_count": 30,
   "id": "4d13c6e0",
   "metadata": {},
   "outputs": [],
   "source": [
    "batch_num = 0\n",
    "\n",
    "results_m = np.load(f'../me-inv-with-sigmas/params_comp_NN_{batch_size}_{batch_num}.npy')\n",
    "elapsed_m_t = np.load(f'../me-inv-with-sigmas/time_NN_{batch_size}_{batch_num}.npy')"
   ]
  },
  {
   "cell_type": "code",
   "execution_count": 31,
   "id": "81ce22e8",
   "metadata": {},
   "outputs": [
    {
     "name": "stdout",
     "output_type": "stream",
     "text": [
      "Затраченное на вычисление время: 0.03 секунд\n"
     ]
    },
    {
     "data": {
      "text/html": [
       "<div>\n",
       "<style scoped>\n",
       "    .dataframe tbody tr th:only-of-type {\n",
       "        vertical-align: middle;\n",
       "    }\n",
       "\n",
       "    .dataframe tbody tr th {\n",
       "        vertical-align: top;\n",
       "    }\n",
       "\n",
       "    .dataframe thead th {\n",
       "        text-align: right;\n",
       "    }\n",
       "</style>\n",
       "<table border=\"1\" class=\"dataframe\">\n",
       "  <thead>\n",
       "    <tr style=\"text-align: right;\">\n",
       "      <th></th>\n",
       "      <th>target</th>\n",
       "      <th>predicted</th>\n",
       "      <th>sigmas</th>\n",
       "    </tr>\n",
       "  </thead>\n",
       "  <tbody>\n",
       "    <tr>\n",
       "      <th>0</th>\n",
       "      <td>1400.28</td>\n",
       "      <td>1389.35</td>\n",
       "      <td>17.40</td>\n",
       "    </tr>\n",
       "    <tr>\n",
       "      <th>1</th>\n",
       "      <td>32.97</td>\n",
       "      <td>32.11</td>\n",
       "      <td>0.78</td>\n",
       "    </tr>\n",
       "    <tr>\n",
       "      <th>2</th>\n",
       "      <td>177.85</td>\n",
       "      <td>176.84</td>\n",
       "      <td>1.36</td>\n",
       "    </tr>\n",
       "    <tr>\n",
       "      <th>3</th>\n",
       "      <td>38.84</td>\n",
       "      <td>36.58</td>\n",
       "      <td>1.03</td>\n",
       "    </tr>\n",
       "    <tr>\n",
       "      <th>4</th>\n",
       "      <td>0.27</td>\n",
       "      <td>0.30</td>\n",
       "      <td>0.02</td>\n",
       "    </tr>\n",
       "    <tr>\n",
       "      <th>5</th>\n",
       "      <td>2.50</td>\n",
       "      <td>3.04</td>\n",
       "      <td>0.38</td>\n",
       "    </tr>\n",
       "    <tr>\n",
       "      <th>6</th>\n",
       "      <td>12836.86</td>\n",
       "      <td>13818.44</td>\n",
       "      <td>847.09</td>\n",
       "    </tr>\n",
       "    <tr>\n",
       "      <th>7</th>\n",
       "      <td>18536.04</td>\n",
       "      <td>17577.29</td>\n",
       "      <td>845.30</td>\n",
       "    </tr>\n",
       "    <tr>\n",
       "      <th>8</th>\n",
       "      <td>0.14</td>\n",
       "      <td>0.10</td>\n",
       "      <td>0.02</td>\n",
       "    </tr>\n",
       "    <tr>\n",
       "      <th>9</th>\n",
       "      <td>0.56</td>\n",
       "      <td>0.55</td>\n",
       "      <td>0.01</td>\n",
       "    </tr>\n",
       "    <tr>\n",
       "      <th>10</th>\n",
       "      <td>0.50</td>\n",
       "      <td>0.53</td>\n",
       "      <td>0.02</td>\n",
       "    </tr>\n",
       "  </tbody>\n",
       "</table>\n",
       "</div>"
      ],
      "text/plain": [
       "      target  predicted  sigmas\n",
       "0    1400.28    1389.35   17.40\n",
       "1      32.97      32.11    0.78\n",
       "2     177.85     176.84    1.36\n",
       "3      38.84      36.58    1.03\n",
       "4       0.27       0.30    0.02\n",
       "5       2.50       3.04    0.38\n",
       "6   12836.86   13818.44  847.09\n",
       "7   18536.04   17577.29  845.30\n",
       "8       0.14       0.10    0.02\n",
       "9       0.56       0.55    0.01\n",
       "10      0.50       0.53    0.02"
      ]
     },
     "execution_count": 31,
     "metadata": {},
     "output_type": "execute_result"
    }
   ],
   "source": [
    "par_ind = 0\n",
    "\n",
    "df2 = pd.DataFrame(results_m[par_ind], columns = ['target', 'predicted', 'sigmas'])\n",
    "\n",
    "print('Затраченное на вычисление время:', np.round(elapsed_m_t[par_ind][0], 2), 'секунд')\n",
    "df2.round(2)"
   ]
  },
  {
   "cell_type": "markdown",
   "id": "69c45428-11d4-47da-9274-22a52d3ca59c",
   "metadata": {},
   "source": [
    "## Analysis"
   ]
  },
  {
   "cell_type": "markdown",
   "id": "17a5808a-5fe4-4b0f-9e09-b208a6cf6750",
   "metadata": {},
   "source": [
    "### Standart"
   ]
  },
  {
   "cell_type": "code",
   "execution_count": 105,
   "id": "c7c58540-0036-4492-ad8d-e64f85470979",
   "metadata": {},
   "outputs": [],
   "source": [
    "f_names = ['../me-inv-with-sigmas/params_comp_4096_' + str(i) + '.npy' for i in range(109)]\n",
    "f_names_time = ['../me-inv-with-sigmas/time_4096_' + str(i) + '.npy' for i in range(109)]"
   ]
  },
  {
   "cell_type": "code",
   "execution_count": 97,
   "id": "5c52e324-d00b-44ec-83ec-5d70769015b3",
   "metadata": {},
   "outputs": [],
   "source": [
    "st_res = np.empty((len(parameter_base), 11, 3))\n",
    "st_time = np.empty((len(parameter_base), 1))"
   ]
  },
  {
   "cell_type": "code",
   "execution_count": 98,
   "id": "be3666b2-ab7b-4d60-aee5-7168127c2324",
   "metadata": {},
   "outputs": [],
   "source": [
    "for index, f_name in enumerate(f_names[:-1]):\n",
    "    st_res[index * batch_size:(index + 1) * batch_size, ...] = np.load(f_name)\n",
    "  \n",
    "t_ar = np.load(f_names[-1])\n",
    "st_res[-t_ar.shape[0]:, ...] = t_ar"
   ]
  },
  {
   "cell_type": "code",
   "execution_count": 107,
   "id": "6df594be-0fbd-47a7-b247-6e5e6c10f8a6",
   "metadata": {},
   "outputs": [],
   "source": [
    "for index, f_name in enumerate(f_names_time[:-1]):\n",
    "    st_time[index * batch_size:(index + 1) * batch_size, ...] = np.load(f_name)\n",
    "  \n",
    "t_ar = np.load(f_names_time[-1])\n",
    "st_time[-t_ar.shape[0]:, ...] = t_ar"
   ]
  },
  {
   "cell_type": "code",
   "execution_count": 151,
   "id": "495c8d69-2ecb-4117-bfa2-fd6e53a99c35",
   "metadata": {},
   "outputs": [
    {
     "data": {
      "text/plain": [
       "43.28148776157496"
      ]
     },
     "execution_count": 151,
     "metadata": {},
     "output_type": "execute_result"
    }
   ],
   "source": [
    "st_time.sum() / 3600"
   ]
  },
  {
   "cell_type": "code",
   "execution_count": 149,
   "id": "2196f483-86cd-4d11-b575-6a699433ba9a",
   "metadata": {},
   "outputs": [
    {
     "name": "stdout",
     "output_type": "stream",
     "text": [
      "Время обсчета одного снимка: 43.28148776157496 часов\n"
     ]
    }
   ],
   "source": [
    "print(f'Время обсчета одного снимка: {st_time.sum() / 3600} часов')"
   ]
  },
  {
   "cell_type": "code",
   "execution_count": 125,
   "id": "9f227f1b-faf0-47b2-bd6b-88b62a045d63",
   "metadata": {},
   "outputs": [],
   "source": [
    "np.save('../me-inv-with-sigmas/params_comp', st_res)\n",
    "np.save('../me-inv-with-sigmas/time', st_time)"
   ]
  },
  {
   "cell_type": "markdown",
   "id": "c9d8dde5-e485-48c9-88ae-beb16ccbcd3a",
   "metadata": {},
   "source": [
    "### NN"
   ]
  },
  {
   "cell_type": "code",
   "execution_count": 106,
   "id": "6dc3429d-501f-4ae7-8423-10d5b67d952a",
   "metadata": {},
   "outputs": [],
   "source": [
    "f_names_NN = ['../me-inv-with-sigmas/params_comp_NN_4096_' + str(i) + '.npy' for i in range(109)]\n",
    "f_names_NN_time = ['../me-inv-with-sigmas/time_NN_4096_' + str(i) + '.npy' for i in range(109)]"
   ]
  },
  {
   "cell_type": "code",
   "execution_count": 101,
   "id": "0c54eb64-3f22-48cc-87e9-b40a144b681a",
   "metadata": {},
   "outputs": [],
   "source": [
    "nn_res = np.empty((len(parameter_base), 11, 3))\n",
    "nn_time = np.empty((len(parameter_base), 1))"
   ]
  },
  {
   "cell_type": "code",
   "execution_count": 102,
   "id": "361279f8-deb0-4dac-8528-e2a5d2670b08",
   "metadata": {},
   "outputs": [],
   "source": [
    "for index, f_name in enumerate(f_names_NN[:-1]):\n",
    "    nn_res[index * batch_size:(index + 1) * batch_size, ...] = np.load(f_name)\n",
    "  \n",
    "t_ar = np.load(f_names[-1])\n",
    "nn_res[-t_ar.shape[0]:, ...] = t_ar"
   ]
  },
  {
   "cell_type": "code",
   "execution_count": 121,
   "id": "caccb22a-4b50-4786-ad39-d942263ef2dd",
   "metadata": {},
   "outputs": [],
   "source": [
    "for index, f_name in enumerate(f_names_NN_time[:-1]):\n",
    "    nn_time[index * batch_size:(index + 1) * batch_size, ...] = np.load(f_name)\n",
    "  \n",
    "t_ar = np.load(f_names_NN_time[-1])\n",
    "nn_time[-t_ar.shape[0]:, ...] = t_ar"
   ]
  },
  {
   "cell_type": "code",
   "execution_count": 150,
   "id": "7af2db39-a7ea-4b1d-a333-6b5ecb0dd7c4",
   "metadata": {},
   "outputs": [
    {
     "name": "stdout",
     "output_type": "stream",
     "text": [
      "Время обсчета одного снимка: 20.245917834603553 часов\n"
     ]
    }
   ],
   "source": [
    "print(f'Время обсчета одного снимка: {nn_time.sum() / 3600} часов')"
   ]
  },
  {
   "cell_type": "code",
   "execution_count": 124,
   "id": "cca11f18-09a9-49a0-af77-44399826ec82",
   "metadata": {},
   "outputs": [],
   "source": [
    "# np.save('../me-inv-with-sigmas/params_comp_NN', nn_res)\n",
    "# np.save('../me-inv-with-sigmas/time_NN', nn_time)"
   ]
  },
  {
   "cell_type": "code",
   "execution_count": 157,
   "id": "03563803-df0e-4a86-9163-27c53984ff15",
   "metadata": {},
   "outputs": [
    {
     "data": {
      "text/plain": [
       "array([[ 1400.28259277,  1425.16210647,    15.71538479],\n",
       "       [   32.97245789,    32.89359475,     0.7511327 ],\n",
       "       [  177.85369873,   178.81658026,     1.27165123],\n",
       "       [   38.83941269,    41.51282274,     1.14378937],\n",
       "       [    0.26864216,     0.22861971,     0.01849041],\n",
       "       [    2.50168061,     1.79861568,     0.23226476],\n",
       "       [12836.86230469, 10302.7753237 ,  1275.27970767],\n",
       "       [18536.04101562, 21070.43349022,  1273.45608733],\n",
       "       [    0.13613635,     0.13089313,     0.01524388],\n",
       "       [    0.5580886 ,     0.5458855 ,     0.00754621],\n",
       "       [    0.50357759,     0.53145481,     0.018767  ]])"
      ]
     },
     "execution_count": 157,
     "metadata": {},
     "output_type": "execute_result"
    }
   ],
   "source": [
    "st_res[0]"
   ]
  },
  {
   "cell_type": "code",
   "execution_count": 156,
   "id": "a7e91ef6-816a-487f-ac38-1d34c64a7eb2",
   "metadata": {},
   "outputs": [
    {
     "data": {
      "text/plain": [
       "array([[ 1400.28259277,  1389.34847162,    17.40158867],\n",
       "       [   32.97245789,    32.11031145,     0.78075615],\n",
       "       [  177.85369873,   176.83924402,     1.36348685],\n",
       "       [   38.83941269,    36.58407116,     1.03391411],\n",
       "       [    0.26864216,     0.29525058,     0.01979214],\n",
       "       [    2.50168061,     3.04019025,     0.3782804 ],\n",
       "       [12836.86230469, 13818.438106  ,   847.09327374],\n",
       "       [18536.04101562, 17577.29366666,   845.29586675],\n",
       "       [    0.13613635,     0.09513147,     0.01578066],\n",
       "       [    0.5580886 ,     0.55322678,     0.0088986 ],\n",
       "       [    0.50357759,     0.52684336,     0.02128912]])"
      ]
     },
     "execution_count": 156,
     "metadata": {},
     "output_type": "execute_result"
    }
   ],
   "source": [
    "nn_res[0]"
   ]
  },
  {
   "cell_type": "code",
   "execution_count": 136,
   "id": "580e5481-ef7a-4fb6-9d47-58c1e34ca344",
   "metadata": {},
   "outputs": [
    {
     "data": {
      "text/plain": [
       "2.7668264066918016"
      ]
     },
     "execution_count": 136,
     "metadata": {},
     "output_type": "execute_result"
    }
   ],
   "source": [
    "st_res[:, :, 2].mean() / nn_res[:, :, 2].mean()"
   ]
  }
 ],
 "metadata": {
  "kernelspec": {
   "display_name": "conda_3.7",
   "language": "python",
   "name": "conda_3.7"
  },
  "language_info": {
   "codemirror_mode": {
    "name": "ipython",
    "version": 3
   },
   "file_extension": ".py",
   "mimetype": "text/x-python",
   "name": "python",
   "nbconvert_exporter": "python",
   "pygments_lexer": "ipython3",
   "version": "3.7.11"
  },
  "toc": {
   "base_numbering": 1,
   "nav_menu": {},
   "number_sections": true,
   "sideBar": true,
   "skip_h1_title": false,
   "title_cell": "Table of Contents",
   "title_sidebar": "Contents",
   "toc_cell": false,
   "toc_position": {},
   "toc_section_display": true,
   "toc_window_display": false
  },
  "varInspector": {
   "cols": {
    "lenName": 16,
    "lenType": 16,
    "lenVar": 40
   },
   "kernels_config": {
    "python": {
     "delete_cmd_postfix": "",
     "delete_cmd_prefix": "del ",
     "library": "var_list.py",
     "varRefreshCmd": "print(var_dic_list())"
    },
    "r": {
     "delete_cmd_postfix": ") ",
     "delete_cmd_prefix": "rm(",
     "library": "var_list.r",
     "varRefreshCmd": "cat(var_dic_list()) "
    }
   },
   "types_to_exclude": [
    "module",
    "function",
    "builtin_function_or_method",
    "instance",
    "_Feature"
   ],
   "window_display": false
  }
 },
 "nbformat": 4,
 "nbformat_minor": 5
}