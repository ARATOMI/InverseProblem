{
  "nbformat": 4,
  "nbformat_minor": 0,
  "metadata": {
    "orig_nbformat": 4,
    "language_info": {
      "name": "python",
      "version": "3.7.9",
      "mimetype": "text/x-python",
      "codemirror_mode": {
        "name": "ipython",
        "version": 3
      },
      "pygments_lexer": "ipython3",
      "nbconvert_exporter": "python",
      "file_extension": ".py"
    },
    "kernelspec": {
      "name": "python3",
      "display_name": "Python 3.7.9 64-bit (conda)"
    },
    "interpreter": {
      "hash": "b1ebb82396117fdec4498bfdfe278329fd70552c8e0e31d6a759ea389b2b6fd9"
    },
    "colab": {
      "name": "collab_training.ipynb",
      "provenance": []
    }
  },
  "cells": [
    {
      "cell_type": "markdown",
      "metadata": {
        "id": "AJLiCAQBYM_G"
      },
      "source": [
        "## Loading files and imports"
      ]
    },
    {
      "cell_type": "code",
      "metadata": {
        "colab": {
          "base_uri": "https://localhost:8080/"
        },
        "id": "OD63jIY8NQy4",
        "outputId": "19b23568-5db1-43b1-87b0-d040239d67c2"
      },
      "source": [
        "from google.colab import drive\n",
        "drive.mount('/content/drive')"
      ],
      "execution_count": 1,
      "outputs": [
        {
          "output_type": "stream",
          "text": [
            "Mounted at /content/drive\n"
          ],
          "name": "stdout"
        }
      ]
    },
    {
      "cell_type": "code",
      "metadata": {
        "colab": {
          "base_uri": "https://localhost:8080/"
        },
        "id": "0i47dqg4Mp48",
        "outputId": "88e71cec-dc80-4c75-b12d-8ed59e8b0cb0"
      },
      "source": [
        "!unzip /content/drive/MyDrive/InverseProblem/InverseProblem.zip -d /content/"
      ],
      "execution_count": 3,
      "outputs": [
        {
          "output_type": "stream",
          "text": [
            "Archive:  /content/drive/MyDrive/InverseProblem/InverseProblem.zip\n",
            "   creating: /content/InverseProblem/\n",
            "   creating: /content/InverseProblem/.git/\n",
            "  inflating: /content/InverseProblem/.gitignore  \n",
            "  inflating: /content/InverseProblem/.git/config  \n",
            "  inflating: /content/InverseProblem/.git/description  \n",
            "  inflating: /content/InverseProblem/.git/FETCH_HEAD  \n",
            " extracting: /content/InverseProblem/.git/HEAD  \n",
            "   creating: /content/InverseProblem/.git/hooks/\n",
            "  inflating: /content/InverseProblem/.git/hooks/applypatch-msg.sample  \n",
            "  inflating: /content/InverseProblem/.git/hooks/commit-msg.sample  \n",
            "  inflating: /content/InverseProblem/.git/hooks/fsmonitor-watchman.sample  \n",
            "  inflating: /content/InverseProblem/.git/hooks/post-update.sample  \n",
            "  inflating: /content/InverseProblem/.git/hooks/pre-applypatch.sample  \n",
            "  inflating: /content/InverseProblem/.git/hooks/pre-commit.sample  \n",
            "  inflating: /content/InverseProblem/.git/hooks/pre-merge-commit.sample  \n",
            "  inflating: /content/InverseProblem/.git/hooks/pre-push.sample  \n",
            "  inflating: /content/InverseProblem/.git/hooks/pre-rebase.sample  \n",
            "  inflating: /content/InverseProblem/.git/hooks/pre-receive.sample  \n",
            "  inflating: /content/InverseProblem/.git/hooks/prepare-commit-msg.sample  \n",
            "  inflating: /content/InverseProblem/.git/hooks/update.sample  \n",
            "  inflating: /content/InverseProblem/.git/index  \n",
            "   creating: /content/InverseProblem/.git/info/\n",
            "  inflating: /content/InverseProblem/.git/info/exclude  \n",
            "   creating: /content/InverseProblem/.git/logs/\n",
            "  inflating: /content/InverseProblem/.git/logs/HEAD  \n",
            "   creating: /content/InverseProblem/.git/logs/refs/\n",
            "   creating: /content/InverseProblem/.git/logs/refs/heads/\n",
            "  inflating: /content/InverseProblem/.git/logs/refs/heads/main  \n",
            "  inflating: /content/InverseProblem/.git/logs/refs/heads/normalising-flows  \n",
            "   creating: /content/InverseProblem/.git/logs/refs/remotes/\n",
            "   creating: /content/InverseProblem/.git/logs/refs/remotes/origin/\n",
            "  inflating: /content/InverseProblem/.git/logs/refs/remotes/origin/HEAD  \n",
            "  inflating: /content/InverseProblem/.git/logs/refs/stash  \n",
            "   creating: /content/InverseProblem/.git/objects/\n",
            "   creating: /content/InverseProblem/.git/objects/19/\n",
            " extracting: /content/InverseProblem/.git/objects/19/9256bf247c4baf33fcafb75e30fc64524cccad  \n",
            "   creating: /content/InverseProblem/.git/objects/43/\n",
            " extracting: /content/InverseProblem/.git/objects/43/54378239263dd7105fd59e4e0215d198b63929  \n",
            "   creating: /content/InverseProblem/.git/objects/5d/\n",
            " extracting: /content/InverseProblem/.git/objects/5d/896595aa2e68d5920039ee688e054bc05d0acb  \n",
            "   creating: /content/InverseProblem/.git/objects/b3/\n",
            " extracting: /content/InverseProblem/.git/objects/b3/7dacf15a20d10d851bb4545f0d426f995aef8b  \n",
            "   creating: /content/InverseProblem/.git/objects/info/\n",
            "   creating: /content/InverseProblem/.git/objects/pack/\n",
            "  inflating: /content/InverseProblem/.git/objects/pack/pack-1e3a30eefe20d43324e67d4e651f7314288b8484.idx  \n",
            " extracting: /content/InverseProblem/.git/objects/pack/pack-1e3a30eefe20d43324e67d4e651f7314288b8484.pack  \n",
            " extracting: /content/InverseProblem/.git/ORIG_HEAD  \n",
            "  inflating: /content/InverseProblem/.git/packed-refs  \n",
            "   creating: /content/InverseProblem/.git/refs/\n",
            "   creating: /content/InverseProblem/.git/refs/heads/\n",
            " extracting: /content/InverseProblem/.git/refs/heads/main  \n",
            " extracting: /content/InverseProblem/.git/refs/heads/normalising-flows  \n",
            "   creating: /content/InverseProblem/.git/refs/remotes/\n",
            "   creating: /content/InverseProblem/.git/refs/remotes/origin/\n",
            " extracting: /content/InverseProblem/.git/refs/remotes/origin/HEAD  \n",
            " extracting: /content/InverseProblem/.git/refs/stash  \n",
            "   creating: /content/InverseProblem/.git/refs/tags/\n",
            "   creating: /content/InverseProblem/data/\n",
            "  inflating: /content/InverseProblem/data/small_parameters_base.fits  \n",
            "  inflating: /content/InverseProblem/full_model.pth  \n",
            "   creating: /content/InverseProblem/inverse_problem/\n",
            "   creating: /content/InverseProblem/inverse_problem/milne_edington/\n",
            "  inflating: /content/InverseProblem/inverse_problem/milne_edington/data_utils.py  \n",
            "  inflating: /content/InverseProblem/inverse_problem/milne_edington/lm.py  \n",
            "  inflating: /content/InverseProblem/inverse_problem/milne_edington/me.py  \n",
            "  inflating: /content/InverseProblem/inverse_problem/milne_edington/mean_spectrum.py  \n",
            "  inflating: /content/InverseProblem/inverse_problem/milne_edington/__init__.py  \n",
            "   creating: /content/InverseProblem/inverse_problem/milne_edington/__pycache__/\n",
            "  inflating: /content/InverseProblem/inverse_problem/milne_edington/__pycache__/data_utils.cpython-37.pyc  \n",
            "  inflating: /content/InverseProblem/inverse_problem/milne_edington/__pycache__/me.cpython-37.pyc  \n",
            "  inflating: /content/InverseProblem/inverse_problem/milne_edington/__pycache__/__init__.cpython-37.pyc  \n",
            "   creating: /content/InverseProblem/inverse_problem/nn_inversion/\n",
            "  inflating: /content/InverseProblem/inverse_problem/nn_inversion/dataset.py  \n",
            "  inflating: /content/InverseProblem/inverse_problem/nn_inversion/layers.py  \n",
            "  inflating: /content/InverseProblem/inverse_problem/nn_inversion/lm_inversion.py  \n",
            "  inflating: /content/InverseProblem/inverse_problem/nn_inversion/main.py  \n",
            "  inflating: /content/InverseProblem/inverse_problem/nn_inversion/models.py  \n",
            "  inflating: /content/InverseProblem/inverse_problem/nn_inversion/posthoc.py  \n",
            "  inflating: /content/InverseProblem/inverse_problem/nn_inversion/spectrumRanges.pickle  \n",
            "  inflating: /content/InverseProblem/inverse_problem/nn_inversion/transforms.py  \n",
            "  inflating: /content/InverseProblem/inverse_problem/nn_inversion/__init__.py  \n",
            "   creating: /content/InverseProblem/inverse_problem/nn_inversion/__pycache__/\n",
            "  inflating: /content/InverseProblem/inverse_problem/nn_inversion/__pycache__/dataset.cpython-37.pyc  \n",
            "  inflating: /content/InverseProblem/inverse_problem/nn_inversion/__pycache__/layers.cpython-37.pyc  \n",
            "  inflating: /content/InverseProblem/inverse_problem/nn_inversion/__pycache__/main.cpython-37.pyc  \n",
            "  inflating: /content/InverseProblem/inverse_problem/nn_inversion/__pycache__/models.cpython-37.pyc  \n",
            "  inflating: /content/InverseProblem/inverse_problem/nn_inversion/__pycache__/posthoc.cpython-37.pyc  \n",
            "  inflating: /content/InverseProblem/inverse_problem/nn_inversion/__pycache__/transforms.cpython-37.pyc  \n",
            "  inflating: /content/InverseProblem/inverse_problem/nn_inversion/__pycache__/__init__.cpython-37.pyc  \n",
            "   creating: /content/InverseProblem/inverse_problem/normalising_flows/\n",
            "   creating: /content/InverseProblem/inverse_problem/normalising_flows/model/\n",
            "  inflating: /content/InverseProblem/inverse_problem/normalising_flows/model/InvertibleLayer.py  \n",
            "  inflating: /content/InverseProblem/inverse_problem/normalising_flows/model/NFFitter.py  \n",
            "  inflating: /content/InverseProblem/inverse_problem/normalising_flows/model/NormalizingFlow.py  \n",
            "  inflating: /content/InverseProblem/inverse_problem/normalising_flows/model/RealNVP.py  \n",
            "   creating: /content/InverseProblem/inverse_problem/normalising_flows/model/__pycache__/\n",
            "  inflating: /content/InverseProblem/inverse_problem/normalising_flows/model/__pycache__/InvertibleLayer.cpython-37.pyc  \n",
            "  inflating: /content/InverseProblem/inverse_problem/normalising_flows/model/__pycache__/NFFitter.cpython-37.pyc  \n",
            "  inflating: /content/InverseProblem/inverse_problem/normalising_flows/model/__pycache__/NNFitter.cpython-37.pyc  \n",
            "  inflating: /content/InverseProblem/inverse_problem/normalising_flows/model/__pycache__/NormalizingFlow.cpython-37.pyc  \n",
            "  inflating: /content/InverseProblem/inverse_problem/normalising_flows/model/__pycache__/RealNVP.cpython-37.pyc  \n",
            "   creating: /content/InverseProblem/inverse_problem/normalising_flows/notebooks/\n",
            "  inflating: /content/InverseProblem/inverse_problem/normalising_flows/notebooks/training.ipynb  \n",
            "  inflating: /content/InverseProblem/inverse_problem/README.md  \n",
            "  inflating: /content/InverseProblem/inverse_problem/__init__.py  \n",
            "   creating: /content/InverseProblem/inverse_problem/__pycache__/\n",
            "  inflating: /content/InverseProblem/inverse_problem/__pycache__/__init__.cpython-37.pyc  \n",
            "  inflating: /content/InverseProblem/model.pth  \n",
            "   creating: /content/InverseProblem/notebooks/\n",
            "  inflating: /content/InverseProblem/notebooks/About_Noise.ipynb  \n",
            "  inflating: /content/InverseProblem/notebooks/About_parameters.ipynb  \n",
            "  inflating: /content/InverseProblem/notebooks/description.ipynb  \n",
            "  inflating: /content/InverseProblem/notebooks/intensity.ipynb  \n",
            "  inflating: /content/InverseProblem/notebooks/ME_description.ipynb  \n",
            "  inflating: /content/InverseProblem/notebooks/model_training_example.ipynb  \n",
            "  inflating: /content/InverseProblem/notebooks/mu.ipynb  \n",
            "  inflating: /content/InverseProblem/notebooks/noise_lines_plots.ipynb  \n",
            "  inflating: /content/InverseProblem/notebooks/Noise_plus.ipynb  \n",
            "  inflating: /content/InverseProblem/README.md  \n",
            "  inflating: /content/InverseProblem/requirements.txt  \n",
            "   creating: /content/InverseProblem/res_experiments/\n",
            "  inflating: /content/InverseProblem/res_experiments/hps_base_conv.json  \n",
            "  inflating: /content/InverseProblem/res_experiments/hps_base_mlp.json  \n",
            "  inflating: /content/InverseProblem/res_experiments/hps_base_mlp_standard.json  \n",
            "  inflating: /content/InverseProblem/res_experiments/hps_base_resnet.json  \n",
            "  inflating: /content/InverseProblem/res_experiments/hps_common_mlp.json  \n",
            "  inflating: /content/InverseProblem/res_experiments/hps_independent_mlp.json  \n",
            "  inflating: /content/InverseProblem/res_experiments/hps_partly_independent_mlp.json  \n",
            " extracting: /content/InverseProblem/setup.py  \n",
            "   creating: /content/InverseProblem/tests/\n",
            "  inflating: /content/InverseProblem/tests/test_conv1dmodel.py  \n",
            "  inflating: /content/InverseProblem/tests/test_dataset.py  \n",
            "  inflating: /content/InverseProblem/tests/test_data_utils.py  \n",
            "  inflating: /content/InverseProblem/tests/test_layers.py  \n",
            "  inflating: /content/InverseProblem/tests/test_lm_inversion.py  \n",
            "  inflating: /content/InverseProblem/tests/test_main.py  \n",
            "  inflating: /content/InverseProblem/tests/test_main_1d.py  \n",
            "  inflating: /content/InverseProblem/tests/test_me.py  \n",
            "  inflating: /content/InverseProblem/tests/test_models.py  \n",
            "  inflating: /content/InverseProblem/tests/test_models1d.py  \n",
            "  inflating: /content/InverseProblem/tests/test_posthoc.py  \n",
            "  inflating: /content/InverseProblem/tests/test_transforms.py  \n",
            " extracting: /content/InverseProblem/tests/__init__.py  \n"
          ],
          "name": "stdout"
        }
      ]
    },
    {
      "cell_type": "code",
      "metadata": {
        "colab": {
          "base_uri": "https://localhost:8080/"
        },
        "id": "RcGMZnDtNhHG",
        "outputId": "e9b5d181-5e35-4f3c-ecac-34e8058b4709"
      },
      "source": [
        "!unzip /content/drive/MyDrive/InverseProblem/DATA/parameters_base.zip -d /content/InverseProblem/data/"
      ],
      "execution_count": 4,
      "outputs": [
        {
          "output_type": "stream",
          "text": [
            "Archive:  /content/drive/MyDrive/InverseProblem/DATA/parameters_base.zip\n",
            "  inflating: /content/InverseProblem/data/parameters_base.fits  \n"
          ],
          "name": "stdout"
        }
      ]
    },
    {
      "cell_type": "code",
      "metadata": {
        "id": "F9Me-EheLrO7"
      },
      "source": [
        "from astropy.io import fits\n",
        "from sklearn.preprocessing import StandardScaler\n",
        "from sklearn.metrics import mean_squared_error, mean_absolute_error, r2_score\n",
        "import matplotlib.pyplot as plt\n",
        "import numpy as np\n",
        "import pandas as pd\n",
        "import torch\n",
        "import sys\n",
        "sys.path.append('/content/InverseProblem/inverse_problem/normalising_flows/model')\n",
        "sys.path.append('/content/InverseProblem')\n",
        "from NFFitter import NFFitter\n",
        "from inverse_problem.milne_edington.me import read_full_spectra, HinodeME, BatchHinodeME\n",
        "from inverse_problem.nn_inversion.posthoc import compute_metrics, open_param_file, plot_params"
      ],
      "execution_count": 2,
      "outputs": []
    },
    {
      "cell_type": "markdown",
      "metadata": {
        "id": "3Ihwt-A8YZRp"
      },
      "source": [
        "## Computing training data"
      ]
    },
    {
      "cell_type": "code",
      "metadata": {
        "id": "ourAzCtfLrO9"
      },
      "source": [
        "DATA_PATH = '/content/InverseProblem/data/parameters_base.fits'"
      ],
      "execution_count": 3,
      "outputs": []
    },
    {
      "cell_type": "code",
      "metadata": {
        "id": "Nd4xDl2gLrO-",
        "colab": {
          "base_uri": "https://localhost:8080/"
        },
        "outputId": "9f7c2dfc-27eb-4b31-8649-477dd5ef8a6a"
      },
      "source": [
        "params = fits.open(DATA_PATH)[0].data\n",
        "lines = None\n",
        "for i in range(params.shape[0]//100000 + 1):\n",
        "  print(f'Computing: {100000*i} - {min(100000*(i+1), params.shape[0])}')\n",
        "  modelBatchME = BatchHinodeME(params[100000*i:min(100000*(i+1), params.shape[0])])\n",
        "  if lines is None:\n",
        "    lines = modelBatchME.compute_spectrum()\n",
        "  else:\n",
        "    lines = np.concatenate((lines, modelBatchME.compute_spectrum()), axis=0)\n",
        "\n",
        "\n",
        "lines = np.reshape(lines, (lines.shape[0], lines.shape[1]*lines.shape[2])).astype(np.float32)\n",
        "params = params.astype(np.float32)\n",
        "params_scaler = StandardScaler()\n",
        "sc_params = params_scaler.fit_transform(params)"
      ],
      "execution_count": 4,
      "outputs": [
        {
          "output_type": "stream",
          "text": [
            "Computing: 0 - 100000\n",
            "Computing: 100000 - 200000\n",
            "Computing: 200000 - 300000\n",
            "Computing: 300000 - 400000\n",
            "Computing: 400000 - 500000\n",
            "Computing: 500000 - 600000\n",
            "Computing: 600000 - 700000\n",
            "Computing: 700000 - 800000\n",
            "Computing: 800000 - 900000\n",
            "Computing: 900000 - 1000000\n",
            "Computing: 1000000 - 1100000\n",
            "Computing: 1100000 - 1200000\n",
            "Computing: 1200000 - 1300000\n",
            "Computing: 1300000 - 1400000\n",
            "Computing: 1400000 - 1500000\n",
            "Computing: 1500000 - 1600000\n",
            "Computing: 1600000 - 1700000\n",
            "Computing: 1700000 - 1800000\n",
            "Computing: 1800000 - 1900000\n",
            "Computing: 1900000 - 2000000\n",
            "Computing: 2000000 - 2100000\n",
            "Computing: 2100000 - 2200000\n",
            "Computing: 2200000 - 2300000\n",
            "Computing: 2300000 - 2400000\n",
            "Computing: 2400000 - 2500000\n",
            "Computing: 2500000 - 2600000\n",
            "Computing: 2600000 - 2700000\n",
            "Computing: 2700000 - 2800000\n",
            "Computing: 2800000 - 2900000\n",
            "Computing: 2900000 - 3000000\n",
            "Computing: 3000000 - 3100000\n",
            "Computing: 3100000 - 3200000\n",
            "Computing: 3200000 - 3237880\n"
          ],
          "name": "stdout"
        }
      ]
    },
    {
      "cell_type": "markdown",
      "metadata": {
        "id": "g58RArQGYk2F"
      },
      "source": [
        "## Training"
      ]
    },
    {
      "cell_type": "code",
      "metadata": {
        "id": "Rw6pgmTLLrO_"
      },
      "source": [
        "#model = NFFitter(var_size=12, cond_size=lines.shape[1], normalize_y=False, n_layers=11, batch_size=512, n_epochs=1, lr=0.003)\n",
        "#current_epoch = 0\n",
        "current_epoch = 140\n",
        "model = torch.load(f'/content/drive/MyDrive/InverseProblem/saved_models/saved_model_{current_epoch}.pth')"
      ],
      "execution_count": 7,
      "outputs": []
    },
    {
      "cell_type": "code",
      "metadata": {
        "id": "s_bnsFY7l1Fc"
      },
      "source": [
        "model.lr = 0.01\n",
        "model.lr"
      ],
      "execution_count": 18,
      "outputs": []
    },
    {
      "cell_type": "code",
      "metadata": {
        "id": "CUT3MOJccN3s",
        "colab": {
          "base_uri": "https://localhost:8080/"
        },
        "outputId": "a68aa786-436d-412d-846e-ca8842cb272f"
      },
      "source": [
        "print(f'Start from epoch: {current_epoch}\\n=======')\n",
        "for i in range(10):\n",
        "  current_epoch += 1\n",
        "  print(f'Training: {current_epoch - 1} - {current_epoch}')\n",
        "  model.fit(lines[:-50000], sc_params[:-50000])\n",
        "  if current_epoch % 5 == 0:\n",
        "    torch.save(model, f'/content/drive/MyDrive/InverseProblem/saved_models/saved_model_{current_epoch}.pth')"
      ],
      "execution_count": 20,
      "outputs": [
        {
          "output_type": "stream",
          "text": [
            "Start from epoch: 140\n",
            "=======\n",
            "Training: 140 - 141\n",
            "Training: 141 - 142\n",
            "Training: 142 - 143\n",
            "Training: 143 - 144\n",
            "Training: 144 - 145\n",
            "Training: 145 - 146\n",
            "Training: 146 - 147\n",
            "Training: 147 - 148\n",
            "Training: 148 - 149\n",
            "Training: 149 - 150\n",
            "Training: 150 - 151\n",
            "Training: 151 - 152\n",
            "Training: 152 - 153\n",
            "Training: 153 - 154\n",
            "Training: 154 - 155\n",
            "Training: 155 - 156\n",
            "Training: 156 - 157\n",
            "Training: 157 - 158\n",
            "Training: 158 - 159\n",
            "Training: 159 - 160\n"
          ],
          "name": "stdout"
        }
      ]
    },
    {
      "cell_type": "code",
      "metadata": {
        "id": "cuAL1H5CLrPA",
        "colab": {
          "base_uri": "https://localhost:8080/",
          "height": 278
        },
        "outputId": "9f624d07-f676-44a2-a04b-00f2785bfb12"
      },
      "source": [
        "plt.plot(model.loss_history)\n",
        "plt.show()"
      ],
      "execution_count": 22,
      "outputs": [
        {
          "output_type": "display_data",
          "data": {
            "image/png": "[encoded data removed]",
            "text/plain": [
              "<Figure size 432x288 with 1 Axes>"
            ]
          },
          "metadata": {
            "tags": [],
            "needs_background": "light"
          }
        }
      ]
    },
    {
      "cell_type": "code",
      "metadata": {
        "id": "m1xV3pObbfc7",
        "colab": {
          "base_uri": "https://localhost:8080/",
          "height": 265
        },
        "outputId": "09afaf4d-b179-40ed-91a9-e026eabc187b"
      },
      "source": [
        "compressed_his = []\n",
        "for i in range(len(model.loss_history)//1000):\n",
        "    compressed_his.append(sum(model.loss_history[1000*i:(i+1)*1000])/1000)\n",
        "plt.plot(compressed_his[:])\n",
        "plt.show()"
      ],
      "execution_count": 28,
      "outputs": [
        {
          "output_type": "display_data",
          "data": {
            "image/png": "[encoded data removed]",
            "text/plain": [
              "<Figure size 432x288 with 1 Axes>"
            ]
          },
          "metadata": {
            "tags": [],
            "needs_background": "light"
          }
        }
      ]
    },
    {
      "cell_type": "code",
      "metadata": {
        "id": "FlV6Y2RPZyS1",
        "colab": {
          "base_uri": "https://localhost:8080/",
          "height": 390
        },
        "outputId": "04748d72-fffe-477a-c154-0cbdb63903cd"
      },
      "source": [
        "names = ['Field_Strength',\n",
        "             'Field_Inclination',\n",
        "             'Field_Azimuth',\n",
        "             'Doppler_Width',\n",
        "             'Damping',\n",
        "             'Line_Strength',\n",
        "             'Original_Continuum_Intensity',\n",
        "             'Source_Function_Gradient',\n",
        "             'Doppler_Shift2',\n",
        "             'Stray_Light_Fill_Factor',\n",
        "             'Stray_light_Shift']\n",
        "predicted, _ = model.predict_n_times(lines[-50000:])\n",
        "unsc_predicted = params_scaler.inverse_transform(predicted[:, :-1])\n",
        "sc_predicted = predicted[:, :-1]\n",
        "df_common = compute_metrics(np.expand_dims(sc_params[-50000:,:], axis=0), np.expand_dims(sc_predicted[:,:], axis=0), names, save_path = f'/content/common_pred_{current_epoch}.csv')\n",
        "df_common"
      ],
      "execution_count": 24,
      "outputs": [
        {
          "output_type": "execute_result",
          "data": {
            "text/html": [
              "<div>\n",
              "<style scoped>\n",
              "    .dataframe tbody tr th:only-of-type {\n",
              "        vertical-align: middle;\n",
              "    }\n",
              "\n",
              "    .dataframe tbody tr th {\n",
              "        vertical-align: top;\n",
              "    }\n",
              "\n",
              "    .dataframe thead th {\n",
              "        text-align: right;\n",
              "    }\n",
              "</style>\n",
              "<table border=\"1\" class=\"dataframe\">\n",
              "  <thead>\n",
              "    <tr style=\"text-align: right;\">\n",
              "      <th></th>\n",
              "      <th>r2</th>\n",
              "      <th>mse</th>\n",
              "      <th>mae</th>\n",
              "    </tr>\n",
              "  </thead>\n",
              "  <tbody>\n",
              "    <tr>\n",
              "      <th>Field_Strength</th>\n",
              "      <td>0.912</td>\n",
              "      <td>0.028</td>\n",
              "      <td>0.112</td>\n",
              "    </tr>\n",
              "    <tr>\n",
              "      <th>Field_Inclination</th>\n",
              "      <td>0.711</td>\n",
              "      <td>0.136</td>\n",
              "      <td>0.217</td>\n",
              "    </tr>\n",
              "    <tr>\n",
              "      <th>Field_Azimuth</th>\n",
              "      <td>0.353</td>\n",
              "      <td>0.542</td>\n",
              "      <td>0.512</td>\n",
              "    </tr>\n",
              "    <tr>\n",
              "      <th>Doppler_Width</th>\n",
              "      <td>0.924</td>\n",
              "      <td>0.086</td>\n",
              "      <td>0.197</td>\n",
              "    </tr>\n",
              "    <tr>\n",
              "      <th>Damping</th>\n",
              "      <td>0.876</td>\n",
              "      <td>0.101</td>\n",
              "      <td>0.208</td>\n",
              "    </tr>\n",
              "    <tr>\n",
              "      <th>Line_Strength</th>\n",
              "      <td>0.679</td>\n",
              "      <td>0.387</td>\n",
              "      <td>0.333</td>\n",
              "    </tr>\n",
              "    <tr>\n",
              "      <th>Original_Continuum_Intensity</th>\n",
              "      <td>0.555</td>\n",
              "      <td>0.298</td>\n",
              "      <td>0.478</td>\n",
              "    </tr>\n",
              "    <tr>\n",
              "      <th>Source_Function_Gradient</th>\n",
              "      <td>0.850</td>\n",
              "      <td>0.269</td>\n",
              "      <td>0.410</td>\n",
              "    </tr>\n",
              "    <tr>\n",
              "      <th>Doppler_Shift2</th>\n",
              "      <td>0.843</td>\n",
              "      <td>0.273</td>\n",
              "      <td>0.351</td>\n",
              "    </tr>\n",
              "    <tr>\n",
              "      <th>Stray_Light_Fill_Factor</th>\n",
              "      <td>0.551</td>\n",
              "      <td>0.264</td>\n",
              "      <td>0.381</td>\n",
              "    </tr>\n",
              "    <tr>\n",
              "      <th>Stray_light_Shift</th>\n",
              "      <td>0.336</td>\n",
              "      <td>0.239</td>\n",
              "      <td>0.244</td>\n",
              "    </tr>\n",
              "  </tbody>\n",
              "</table>\n",
              "</div>"
            ],
            "text/plain": [
              "                                 r2    mse    mae\n",
              "Field_Strength                0.912  0.028  0.112\n",
              "Field_Inclination             0.711  0.136  0.217\n",
              "Field_Azimuth                 0.353  0.542  0.512\n",
              "Doppler_Width                 0.924  0.086  0.197\n",
              "Damping                       0.876  0.101  0.208\n",
              "Line_Strength                 0.679  0.387  0.333\n",
              "Original_Continuum_Intensity  0.555  0.298  0.478\n",
              "Source_Function_Gradient      0.850  0.269  0.410\n",
              "Doppler_Shift2                0.843  0.273  0.351\n",
              "Stray_Light_Fill_Factor       0.551  0.264  0.381\n",
              "Stray_light_Shift             0.336  0.239  0.244"
            ]
          },
          "metadata": {
            "tags": []
          },
          "execution_count": 24
        }
      ]
    },
    {
      "cell_type": "code",
      "metadata": {
        "id": "9d1Z-ppbbySC"
      },
      "source": [
        "torch.save(model, f'/content/saved_model_{current_epoch}.pth')"
      ],
      "execution_count": 25,
      "outputs": []
    },
    {
      "cell_type": "code",
      "metadata": {
        "id": "KBnJMWYsGIP-"
      },
      "source": [
        "torch.save(model, f'/content/drive/MyDrive/InverseProblem/saved_models/saved_model_{current_epoch}.pth')"
      ],
      "execution_count": 26,
      "outputs": []
    }
  ]
}