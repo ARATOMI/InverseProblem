{
  "nbformat": 4,
  "nbformat_minor": 0,
  "metadata": {
    "colab": {
      "name": "distill_training",
      "provenance": []
    },
    "kernelspec": {
      "name": "python3",
      "display_name": "Python 3"
    },
    "language_info": {
      "name": "python"
    }
  },
  "cells": [
    {
      "cell_type": "markdown",
      "source": [
        "### Imports"
      ],
      "metadata": {
        "id": "t9ROGDPl0Okn"
      }
    },
    {
      "cell_type": "code",
      "execution_count": null,
      "metadata": {
        "colab": {
          "base_uri": "https://localhost:8080/"
        },
        "id": "e3Fmhx9xAmTn",
        "outputId": "774a6f27-50f5-4e2a-c0c8-fbf7bca718c0"
      },
      "outputs": [
        {
          "output_type": "stream",
          "name": "stdout",
          "text": [
            "Mounted at /content/drive\n"
          ]
        }
      ],
      "source": [
        "from google.colab import drive\n",
        "drive.mount('/content/drive')"
      ]
    },
    {
      "cell_type": "code",
      "source": [
        "%%capture\n",
        "!unzip /content/drive/MyDrive/InverseProblem/InverseProblem1.zip -d /content/"
      ],
      "metadata": {
        "id": "uk5TEw_5Api5"
      },
      "execution_count": null,
      "outputs": []
    },
    {
      "cell_type": "code",
      "source": [
        "%%capture\n",
        "!unzip /content/drive/MyDrive/InverseProblem/DATA/parameters_base.zip -d /content/InverseProblem/data/"
      ],
      "metadata": {
        "id": "-loWKRou0dHT"
      },
      "execution_count": null,
      "outputs": []
    },
    {
      "cell_type": "code",
      "source": [
        "from astropy.io import fits\n",
        "from sklearn.preprocessing import StandardScaler\n",
        "from sklearn.metrics import mean_squared_error, mean_absolute_error, r2_score\n",
        "from sklearn.model_selection import train_test_split\n",
        "import matplotlib.pyplot as plt\n",
        "import numpy as np\n",
        "import pandas as pd\n",
        "import torch\n",
        "import sys"
      ],
      "metadata": {
        "id": "wmGE6V470lCU"
      },
      "execution_count": null,
      "outputs": []
    },
    {
      "cell_type": "code",
      "source": [
        "sys.path.append('/content/InverseProblem/inverse_problem/normalising_flows/model')\n",
        "sys.path.append('/content/InverseProblem')\n",
        "from NFFitter import NFFitter\n",
        "from helpfuncs import calculate_metrics, compare_metrics\n",
        "from inverse_problem.milne_edington.me import read_full_spectra, HinodeME, BatchHinodeME\n",
        "from inverse_problem.nn_inversion.posthoc import compute_metrics, open_param_file, plot_params"
      ],
      "metadata": {
        "id": "Ns7sfQiS0nXg"
      },
      "execution_count": null,
      "outputs": []
    },
    {
      "cell_type": "code",
      "source": [
        "from sklearn.preprocessing import StandardScaler\n",
        "import numpy as np\n",
        "import torch\n",
        "import torch.nn as nn\n",
        "import torch.nn.functional as F\n",
        "from torch.utils.data import TensorDataset, DataLoader\n",
        "from torch.autograd import Variable\n",
        "from NormalizingFlow import NormalizingFlow\n",
        "from RealNVP import RealNVP\n",
        "\n",
        "\n",
        "\n",
        "# DEVICE = torch.device(\"cuda\" if torch.cuda.is_available() else \"cpu\")\n",
        "DEVICE = torch.device('cpu')\n",
        "\n",
        "class NFFitterDistilled(object):\n",
        "    \n",
        "    def __init__(self, teacher_model, var_size=2, cond_size=2, normalize_y=True, n_layers=8,  batch_size=32, n_epochs=10, lr=0.0001):\n",
        "        \n",
        "        self.normalize_y = normalize_y\n",
        "        self.batch_size = batch_size\n",
        "        self.n_epochs = n_epochs\n",
        "        self.lr = lr\n",
        "        self.loss_history = []\n",
        "\n",
        "        self.teacher_model = teacher_model\n",
        "        \n",
        "        prior = torch.distributions.MultivariateNormal(torch.zeros(var_size), torch.eye(var_size))\n",
        "\n",
        "        layers = []\n",
        "        for i in range(n_layers):\n",
        "            mask = ((torch.arange(var_size) + i) % 2)\n",
        "            # mask = torch.ones(var_size, dtype=torch.int64) * torch.from_numpy(np.random.rand(var_size) < 0.5)\n",
        "            layers.append(RealNVP(var_size=var_size, cond_size=cond_size, mask=mask, hidden=40))\n",
        "\n",
        "        self.nf = NormalizingFlow(layers=layers, prior=prior)\n",
        "        self.opt = torch.optim.Adam(self.nf.parameters(), lr=self.lr)\n",
        "        \n",
        "        \n",
        "    def reshape(self, y):\n",
        "        try:\n",
        "            y.shape[1]\n",
        "            return y\n",
        "        except:\n",
        "            return y.reshape(-1, 1)\n",
        "    \n",
        "    \n",
        "    def fit(self, X, y):\n",
        "        \n",
        "        # reshape\n",
        "        y = self.reshape(y)\n",
        "        \n",
        "        # normalize\n",
        "        if self.normalize_y:\n",
        "            self.ss_y = StandardScaler()\n",
        "            y = self.ss_y.fit_transform(y)\n",
        "            \n",
        "        #noise = np.random.normal(0, 1, (y.shape[0], 1))\n",
        "        #y = np.concatenate((y, noise), axis=1)\n",
        "        \n",
        "        # numpy to tensor\n",
        "        y_real = torch.tensor(y, dtype=torch.float32, device=DEVICE)\n",
        "        X_cond = torch.tensor(X, dtype=torch.float32, device=DEVICE)\n",
        "\n",
        "        \n",
        "        \n",
        "        # tensor to dataset\n",
        "        dataset_real = TensorDataset(y_real, X_cond)\n",
        "        \n",
        "        criterion = nn.MSELoss()\n",
        "        \n",
        "\n",
        "        # Fit GAN\n",
        "        for epoch in range(self.n_epochs):\n",
        "            for i, (y_batch, x_batch) in enumerate(DataLoader(dataset_real, batch_size=self.batch_size, shuffle=True)):\n",
        "                \n",
        "                noise = np.random.normal(0, 1, (len(y_batch), 1))\n",
        "                noise = torch.tensor(noise, dtype=torch.float32, device=DEVICE)\n",
        "                y_batch = torch.cat((y_batch, noise), dim=1)\n",
        "                \n",
        "                y_pred = self.nf.sample(x_batch)\n",
        "                y_teacher = self.teacher_model.nf.sample(x_batch)\n",
        "                \n",
        "                # caiculate loss\n",
        "                #loss = -self.nf.log_prob(y_batch, x_batch)\n",
        "                # loss = criterion(y_batch, y_pred)\n",
        "\n",
        "                loss = criterion(y_teacher, y_pred)\n",
        "                \n",
        "                # optimization step\n",
        "                self.opt.zero_grad()\n",
        "                loss.backward()\n",
        "                self.opt.step()\n",
        "                    \n",
        "                # caiculate and store loss\n",
        "                self.loss_history.append(loss.detach().cpu())\n",
        "                    \n",
        "        \n",
        "    def predict(self, X):\n",
        "        #noise = np.random.normal(0, 1, (X.shape[0], 1))\n",
        "        #X = np.concatenate((X, noise), axis=1)\n",
        "        X = torch.tensor(X, dtype=torch.float32, device=DEVICE)\n",
        "        y_pred = self.nf.sample(X).cpu().detach().numpy()#[:, 0]\n",
        "        # normalize\n",
        "        if self.normalize_y:\n",
        "            y_pred = self.ss_y.inverse_transform(y_pred)\n",
        "        return y_pred\n",
        "    \n",
        "    def predict_n_times(self, X, n_times=100):\n",
        "        predictions = []\n",
        "        for i in range(n_times):\n",
        "            y_pred = self.predict(X)\n",
        "            predictions.append(y_pred)\n",
        "        predictions = np.array(predictions)\n",
        "        mean = predictions.mean(axis=0)\n",
        "        std = predictions.std(axis=0)\n",
        "        return mean, std\n",
        "\n",
        "    def predict_image_n_times(self, X, n_times=100):\n",
        "        predictedImage = []\n",
        "        for row in X:\n",
        "            predictedRow, _ = self.predict_n_times(row, n_times=n_times)\n",
        "            predictedImage.append(predictedRow)\n",
        "        return np.array(predictedImage)"
      ],
      "metadata": {
        "id": "w35xrXEd0tTh"
      },
      "execution_count": null,
      "outputs": []
    },
    {
      "cell_type": "code",
      "source": [
        "DATA_PATH = '/content/InverseProblem/data/parameters_base.fits'"
      ],
      "metadata": {
        "id": "oFVvgdMd21Wh"
      },
      "execution_count": null,
      "outputs": []
    },
    {
      "cell_type": "code",
      "source": [
        "def prepare_data(data_path, size_limit=None, batch_size=10000):\n",
        "\n",
        "    params = fits.open(DATA_PATH)[0].data\n",
        "    lines = None\n",
        "\n",
        "    if size_limit is None:\n",
        "      size_limit = params.shape[0]\n",
        "\n",
        "    for i in range((size_limit - 1)//batch_size + 1):\n",
        "      # print(f'Computing: {batch_size*i} - {min(batch_size*(i+1), params.shape[0])}')\n",
        "      modelBatchME = BatchHinodeME(params[batch_size*i:min(batch_size*(i+1), size_limit)])\n",
        "      if lines is None:\n",
        "        lines = modelBatchME.compute_spectrum()\n",
        "      else:\n",
        "        lines = np.concatenate((lines, modelBatchME.compute_spectrum()), axis=0)\n",
        "\n",
        "    lines = np.reshape(lines, (lines.shape[0], lines.shape[1]*lines.shape[2])).astype(np.float32)\n",
        "    params = params[:size_limit].astype(np.float32)\n",
        "\n",
        "    return lines, params\n"
      ],
      "metadata": {
        "id": "KcYCey8J2843"
      },
      "execution_count": null,
      "outputs": []
    },
    {
      "cell_type": "code",
      "source": [
        "lines, params = prepare_data(DATA_PATH, size_limit=10000, batch_size=1000)"
      ],
      "metadata": {
        "id": "AHePRVZR4jpG"
      },
      "execution_count": null,
      "outputs": []
    },
    {
      "cell_type": "code",
      "source": [
        "lines_train, lines_test, params_train, params_test = train_test_split(lines, params, test_size=0.2)"
      ],
      "metadata": {
        "id": "PGvJOYSCVt-N"
      },
      "execution_count": null,
      "outputs": []
    },
    {
      "cell_type": "code",
      "source": [
        "params_scaler = StandardScaler()\n",
        "sc_params = params_scaler.fit_transform(params)"
      ],
      "metadata": {
        "id": "iTtjBrfN4qbu"
      },
      "execution_count": null,
      "outputs": []
    },
    {
      "cell_type": "code",
      "source": [
        "sc_params_train = params_scaler.transform(params_train)\n",
        "sc_params_test = params_scaler.transform(params_test)"
      ],
      "metadata": {
        "id": "rSKc4ht1WGWD"
      },
      "execution_count": null,
      "outputs": []
    },
    {
      "cell_type": "code",
      "source": [
        "model = torch.load(f'/content/drive/MyDrive/InverseProblem/saved_models/saved_mid_model_190.pth')"
      ],
      "metadata": {
        "id": "Vs4Rrdsb4sjP"
      },
      "execution_count": null,
      "outputs": []
    },
    {
      "cell_type": "code",
      "source": [
        "predicted, _ = model.predict_n_times(lines_test)\n",
        "unsc_predicted = params_scaler.inverse_transform(predicted[:, :-1])\n",
        "sc_predicted = predicted[:, :-1]\n",
        "\n",
        "calculate_metrics(sc_params_test, sc_predicted)"
      ],
      "metadata": {
        "colab": {
          "base_uri": "https://localhost:8080/",
          "height": 394
        },
        "id": "1lU5feko6YrE",
        "outputId": "0ecb624a-92a0-44b1-916e-b0838b24d99e"
      },
      "execution_count": null,
      "outputs": [
        {
          "output_type": "execute_result",
          "data": {
            "text/plain": [
              "                                 r2       mse       mae\n",
              "Field_Strength                0.953  0.006182  0.054700\n",
              "Field_Inclination             0.904  0.005375  0.054473\n",
              "Field_Azimuth                 0.710  0.020018  0.078421\n",
              "Doppler_Width                 0.931  0.001623  0.030462\n",
              "Damping                       0.920  0.002302  0.030834\n",
              "Line_Strength                 0.703  0.005249  0.031045\n",
              "Original_Continuum_Intensity  0.636  0.006388  0.061855\n",
              "Source_Function_Gradient      0.835  0.002624  0.040018\n",
              "Doppler_Shift2                0.867  0.001998  0.030088\n",
              "Stray_Light_Fill_Factor       0.762  0.013424  0.088449\n",
              "Stray_light_Shift             0.809  0.001640  0.023938"
            ],
            "text/html": [
              "\n",
              "  <div id=\"df-b7d429dc-c106-4a93-b788-3d21aa0ff5c6\">\n",
              "    <div class=\"colab-df-container\">\n",
              "      <div>\n",
              "<style scoped>\n",
              "    .dataframe tbody tr th:only-of-type {\n",
              "        vertical-align: middle;\n",
              "    }\n",
              "\n",
              "    .dataframe tbody tr th {\n",
              "        vertical-align: top;\n",
              "    }\n",
              "\n",
              "    .dataframe thead th {\n",
              "        text-align: right;\n",
              "    }\n",
              "</style>\n",
              "<table border=\"1\" class=\"dataframe\">\n",
              "  <thead>\n",
              "    <tr style=\"text-align: right;\">\n",
              "      <th></th>\n",
              "      <th>r2</th>\n",
              "      <th>mse</th>\n",
              "      <th>mae</th>\n",
              "    </tr>\n",
              "  </thead>\n",
              "  <tbody>\n",
              "    <tr>\n",
              "      <th>Field_Strength</th>\n",
              "      <td>0.953</td>\n",
              "      <td>0.006182</td>\n",
              "      <td>0.054700</td>\n",
              "    </tr>\n",
              "    <tr>\n",
              "      <th>Field_Inclination</th>\n",
              "      <td>0.904</td>\n",
              "      <td>0.005375</td>\n",
              "      <td>0.054473</td>\n",
              "    </tr>\n",
              "    <tr>\n",
              "      <th>Field_Azimuth</th>\n",
              "      <td>0.710</td>\n",
              "      <td>0.020018</td>\n",
              "      <td>0.078421</td>\n",
              "    </tr>\n",
              "    <tr>\n",
              "      <th>Doppler_Width</th>\n",
              "      <td>0.931</td>\n",
              "      <td>0.001623</td>\n",
              "      <td>0.030462</td>\n",
              "    </tr>\n",
              "    <tr>\n",
              "      <th>Damping</th>\n",
              "      <td>0.920</td>\n",
              "      <td>0.002302</td>\n",
              "      <td>0.030834</td>\n",
              "    </tr>\n",
              "    <tr>\n",
              "      <th>Line_Strength</th>\n",
              "      <td>0.703</td>\n",
              "      <td>0.005249</td>\n",
              "      <td>0.031045</td>\n",
              "    </tr>\n",
              "    <tr>\n",
              "      <th>Original_Continuum_Intensity</th>\n",
              "      <td>0.636</td>\n",
              "      <td>0.006388</td>\n",
              "      <td>0.061855</td>\n",
              "    </tr>\n",
              "    <tr>\n",
              "      <th>Source_Function_Gradient</th>\n",
              "      <td>0.835</td>\n",
              "      <td>0.002624</td>\n",
              "      <td>0.040018</td>\n",
              "    </tr>\n",
              "    <tr>\n",
              "      <th>Doppler_Shift2</th>\n",
              "      <td>0.867</td>\n",
              "      <td>0.001998</td>\n",
              "      <td>0.030088</td>\n",
              "    </tr>\n",
              "    <tr>\n",
              "      <th>Stray_Light_Fill_Factor</th>\n",
              "      <td>0.762</td>\n",
              "      <td>0.013424</td>\n",
              "      <td>0.088449</td>\n",
              "    </tr>\n",
              "    <tr>\n",
              "      <th>Stray_light_Shift</th>\n",
              "      <td>0.809</td>\n",
              "      <td>0.001640</td>\n",
              "      <td>0.023938</td>\n",
              "    </tr>\n",
              "  </tbody>\n",
              "</table>\n",
              "</div>\n",
              "      <button class=\"colab-df-convert\" onclick=\"convertToInteractive('df-b7d429dc-c106-4a93-b788-3d21aa0ff5c6')\"\n",
              "              title=\"Convert this dataframe to an interactive table.\"\n",
              "              style=\"display:none;\">\n",
              "        \n",
              "  <svg xmlns=\"http://www.w3.org/2000/svg\" height=\"24px\"viewBox=\"0 0 24 24\"\n",
              "       width=\"24px\">\n",
              "    <path d=\"M0 0h24v24H0V0z\" fill=\"none\"/>\n",
              "    <path d=\"M18.56 5.44l.94 2.06.94-2.06 2.06-.94-2.06-.94-.94-2.06-.94 2.06-2.06.94zm-11 1L8.5 8.5l.94-2.06 2.06-.94-2.06-.94L8.5 2.5l-.94 2.06-2.06.94zm10 10l.94 2.06.94-2.06 2.06-.94-2.06-.94-.94-2.06-.94 2.06-2.06.94z\"/><path d=\"M17.41 7.96l-1.37-1.37c-.4-.4-.92-.59-1.43-.59-.52 0-1.04.2-1.43.59L10.3 9.45l-7.72 7.72c-.78.78-.78 2.05 0 2.83L4 21.41c.39.39.9.59 1.41.59.51 0 1.02-.2 1.41-.59l7.78-7.78 2.81-2.81c.8-.78.8-2.07 0-2.86zM5.41 20L4 18.59l7.72-7.72 1.47 1.35L5.41 20z\"/>\n",
              "  </svg>\n",
              "      </button>\n",
              "      \n",
              "  <style>\n",
              "    .colab-df-container {\n",
              "      display:flex;\n",
              "      flex-wrap:wrap;\n",
              "      gap: 12px;\n",
              "    }\n",
              "\n",
              "    .colab-df-convert {\n",
              "      background-color: #E8F0FE;\n",
              "      border: none;\n",
              "      border-radius: 50%;\n",
              "      cursor: pointer;\n",
              "      display: none;\n",
              "      fill: #1967D2;\n",
              "      height: 32px;\n",
              "      padding: 0 0 0 0;\n",
              "      width: 32px;\n",
              "    }\n",
              "\n",
              "    .colab-df-convert:hover {\n",
              "      background-color: #E2EBFA;\n",
              "      box-shadow: 0px 1px 2px rgba(60, 64, 67, 0.3), 0px 1px 3px 1px rgba(60, 64, 67, 0.15);\n",
              "      fill: #174EA6;\n",
              "    }\n",
              "\n",
              "    [theme=dark] .colab-df-convert {\n",
              "      background-color: #3B4455;\n",
              "      fill: #D2E3FC;\n",
              "    }\n",
              "\n",
              "    [theme=dark] .colab-df-convert:hover {\n",
              "      background-color: #434B5C;\n",
              "      box-shadow: 0px 1px 3px 1px rgba(0, 0, 0, 0.15);\n",
              "      filter: drop-shadow(0px 1px 2px rgba(0, 0, 0, 0.3));\n",
              "      fill: #FFFFFF;\n",
              "    }\n",
              "  </style>\n",
              "\n",
              "      <script>\n",
              "        const buttonEl =\n",
              "          document.querySelector('#df-b7d429dc-c106-4a93-b788-3d21aa0ff5c6 button.colab-df-convert');\n",
              "        buttonEl.style.display =\n",
              "          google.colab.kernel.accessAllowed ? 'block' : 'none';\n",
              "\n",
              "        async function convertToInteractive(key) {\n",
              "          const element = document.querySelector('#df-b7d429dc-c106-4a93-b788-3d21aa0ff5c6');\n",
              "          const dataTable =\n",
              "            await google.colab.kernel.invokeFunction('convertToInteractive',\n",
              "                                                     [key], {});\n",
              "          if (!dataTable) return;\n",
              "\n",
              "          const docLinkHtml = 'Like what you see? Visit the ' +\n",
              "            '<a target=\"_blank\" href=https://colab.research.google.com/notebooks/data_table.ipynb>data table notebook</a>'\n",
              "            + ' to learn more about interactive tables.';\n",
              "          element.innerHTML = '';\n",
              "          dataTable['output_type'] = 'display_data';\n",
              "          await google.colab.output.renderOutput(dataTable, element);\n",
              "          const docLink = document.createElement('div');\n",
              "          docLink.innerHTML = docLinkHtml;\n",
              "          element.appendChild(docLink);\n",
              "        }\n",
              "      </script>\n",
              "    </div>\n",
              "  </div>\n",
              "  "
            ]
          },
          "metadata": {},
          "execution_count": 18
        }
      ]
    },
    {
      "cell_type": "code",
      "source": [
        "dist_model = NFFitterDistilled(teacher_model=model, var_size=12, cond_size=lines.shape[1], normalize_y=False, n_layers=8, batch_size=250, n_epochs=100, lr=0.003)"
      ],
      "metadata": {
        "id": "U2LaS8FT_ATq"
      },
      "execution_count": null,
      "outputs": []
    },
    {
      "cell_type": "code",
      "source": [
        "dist_model.fit(lines_train, sc_params_train)"
      ],
      "metadata": {
        "id": "0hIiDyF5_ivX"
      },
      "execution_count": null,
      "outputs": []
    },
    {
      "cell_type": "code",
      "source": [
        "dist_predicted, _ = dist_model.predict_n_times(lines_test)\n",
        "dist_unsc_predicted = params_scaler.inverse_transform(dist_predicted[:, :-1])\n",
        "dist_sc_predicted = dist_predicted[:, :-1]"
      ],
      "metadata": {
        "id": "TxnpR_WT_wwV"
      },
      "execution_count": null,
      "outputs": []
    },
    {
      "cell_type": "code",
      "source": [
        "calculate_metrics(sc_params_test, dist_predicted)"
      ],
      "metadata": {
        "colab": {
          "base_uri": "https://localhost:8080/",
          "height": 394
        },
        "id": "j2mk5N9KAFAS",
        "outputId": "4d86ec08-86a9-4b2d-ac05-3718d6f65f1e"
      },
      "execution_count": null,
      "outputs": [
        {
          "output_type": "execute_result",
          "data": {
            "text/plain": [
              "                                 r2       mse       mae\n",
              "Field_Strength                0.909  0.009662  0.069515\n",
              "Field_Inclination             0.867  0.007167  0.065016\n",
              "Field_Azimuth                 0.576  0.029648  0.113828\n",
              "Doppler_Width                 0.734  0.005934  0.059421\n",
              "Damping                       0.704  0.006666  0.053801\n",
              "Line_Strength                 0.349  0.009523  0.044319\n",
              "Original_Continuum_Intensity  0.548  0.007754  0.068204\n",
              "Source_Function_Gradient      0.725  0.004886  0.057232\n",
              "Doppler_Shift2                0.718  0.004886  0.049503\n",
              "Stray_Light_Fill_Factor       0.501  0.027775  0.129498\n",
              "Stray_light_Shift             0.437  0.003905  0.034244"
            ],
            "text/html": [
              "\n",
              "  <div id=\"df-033abaa3-9005-40c5-a28e-38755f6aa073\">\n",
              "    <div class=\"colab-df-container\">\n",
              "      <div>\n",
              "<style scoped>\n",
              "    .dataframe tbody tr th:only-of-type {\n",
              "        vertical-align: middle;\n",
              "    }\n",
              "\n",
              "    .dataframe tbody tr th {\n",
              "        vertical-align: top;\n",
              "    }\n",
              "\n",
              "    .dataframe thead th {\n",
              "        text-align: right;\n",
              "    }\n",
              "</style>\n",
              "<table border=\"1\" class=\"dataframe\">\n",
              "  <thead>\n",
              "    <tr style=\"text-align: right;\">\n",
              "      <th></th>\n",
              "      <th>r2</th>\n",
              "      <th>mse</th>\n",
              "      <th>mae</th>\n",
              "    </tr>\n",
              "  </thead>\n",
              "  <tbody>\n",
              "    <tr>\n",
              "      <th>Field_Strength</th>\n",
              "      <td>0.909</td>\n",
              "      <td>0.009662</td>\n",
              "      <td>0.069515</td>\n",
              "    </tr>\n",
              "    <tr>\n",
              "      <th>Field_Inclination</th>\n",
              "      <td>0.867</td>\n",
              "      <td>0.007167</td>\n",
              "      <td>0.065016</td>\n",
              "    </tr>\n",
              "    <tr>\n",
              "      <th>Field_Azimuth</th>\n",
              "      <td>0.576</td>\n",
              "      <td>0.029648</td>\n",
              "      <td>0.113828</td>\n",
              "    </tr>\n",
              "    <tr>\n",
              "      <th>Doppler_Width</th>\n",
              "      <td>0.734</td>\n",
              "      <td>0.005934</td>\n",
              "      <td>0.059421</td>\n",
              "    </tr>\n",
              "    <tr>\n",
              "      <th>Damping</th>\n",
              "      <td>0.704</td>\n",
              "      <td>0.006666</td>\n",
              "      <td>0.053801</td>\n",
              "    </tr>\n",
              "    <tr>\n",
              "      <th>Line_Strength</th>\n",
              "      <td>0.349</td>\n",
              "      <td>0.009523</td>\n",
              "      <td>0.044319</td>\n",
              "    </tr>\n",
              "    <tr>\n",
              "      <th>Original_Continuum_Intensity</th>\n",
              "      <td>0.548</td>\n",
              "      <td>0.007754</td>\n",
              "      <td>0.068204</td>\n",
              "    </tr>\n",
              "    <tr>\n",
              "      <th>Source_Function_Gradient</th>\n",
              "      <td>0.725</td>\n",
              "      <td>0.004886</td>\n",
              "      <td>0.057232</td>\n",
              "    </tr>\n",
              "    <tr>\n",
              "      <th>Doppler_Shift2</th>\n",
              "      <td>0.718</td>\n",
              "      <td>0.004886</td>\n",
              "      <td>0.049503</td>\n",
              "    </tr>\n",
              "    <tr>\n",
              "      <th>Stray_Light_Fill_Factor</th>\n",
              "      <td>0.501</td>\n",
              "      <td>0.027775</td>\n",
              "      <td>0.129498</td>\n",
              "    </tr>\n",
              "    <tr>\n",
              "      <th>Stray_light_Shift</th>\n",
              "      <td>0.437</td>\n",
              "      <td>0.003905</td>\n",
              "      <td>0.034244</td>\n",
              "    </tr>\n",
              "  </tbody>\n",
              "</table>\n",
              "</div>\n",
              "      <button class=\"colab-df-convert\" onclick=\"convertToInteractive('df-033abaa3-9005-40c5-a28e-38755f6aa073')\"\n",
              "              title=\"Convert this dataframe to an interactive table.\"\n",
              "              style=\"display:none;\">\n",
              "        \n",
              "  <svg xmlns=\"http://www.w3.org/2000/svg\" height=\"24px\"viewBox=\"0 0 24 24\"\n",
              "       width=\"24px\">\n",
              "    <path d=\"M0 0h24v24H0V0z\" fill=\"none\"/>\n",
              "    <path d=\"M18.56 5.44l.94 2.06.94-2.06 2.06-.94-2.06-.94-.94-2.06-.94 2.06-2.06.94zm-11 1L8.5 8.5l.94-2.06 2.06-.94-2.06-.94L8.5 2.5l-.94 2.06-2.06.94zm10 10l.94 2.06.94-2.06 2.06-.94-2.06-.94-.94-2.06-.94 2.06-2.06.94z\"/><path d=\"M17.41 7.96l-1.37-1.37c-.4-.4-.92-.59-1.43-.59-.52 0-1.04.2-1.43.59L10.3 9.45l-7.72 7.72c-.78.78-.78 2.05 0 2.83L4 21.41c.39.39.9.59 1.41.59.51 0 1.02-.2 1.41-.59l7.78-7.78 2.81-2.81c.8-.78.8-2.07 0-2.86zM5.41 20L4 18.59l7.72-7.72 1.47 1.35L5.41 20z\"/>\n",
              "  </svg>\n",
              "      </button>\n",
              "      \n",
              "  <style>\n",
              "    .colab-df-container {\n",
              "      display:flex;\n",
              "      flex-wrap:wrap;\n",
              "      gap: 12px;\n",
              "    }\n",
              "\n",
              "    .colab-df-convert {\n",
              "      background-color: #E8F0FE;\n",
              "      border: none;\n",
              "      border-radius: 50%;\n",
              "      cursor: pointer;\n",
              "      display: none;\n",
              "      fill: #1967D2;\n",
              "      height: 32px;\n",
              "      padding: 0 0 0 0;\n",
              "      width: 32px;\n",
              "    }\n",
              "\n",
              "    .colab-df-convert:hover {\n",
              "      background-color: #E2EBFA;\n",
              "      box-shadow: 0px 1px 2px rgba(60, 64, 67, 0.3), 0px 1px 3px 1px rgba(60, 64, 67, 0.15);\n",
              "      fill: #174EA6;\n",
              "    }\n",
              "\n",
              "    [theme=dark] .colab-df-convert {\n",
              "      background-color: #3B4455;\n",
              "      fill: #D2E3FC;\n",
              "    }\n",
              "\n",
              "    [theme=dark] .colab-df-convert:hover {\n",
              "      background-color: #434B5C;\n",
              "      box-shadow: 0px 1px 3px 1px rgba(0, 0, 0, 0.15);\n",
              "      filter: drop-shadow(0px 1px 2px rgba(0, 0, 0, 0.3));\n",
              "      fill: #FFFFFF;\n",
              "    }\n",
              "  </style>\n",
              "\n",
              "      <script>\n",
              "        const buttonEl =\n",
              "          document.querySelector('#df-033abaa3-9005-40c5-a28e-38755f6aa073 button.colab-df-convert');\n",
              "        buttonEl.style.display =\n",
              "          google.colab.kernel.accessAllowed ? 'block' : 'none';\n",
              "\n",
              "        async function convertToInteractive(key) {\n",
              "          const element = document.querySelector('#df-033abaa3-9005-40c5-a28e-38755f6aa073');\n",
              "          const dataTable =\n",
              "            await google.colab.kernel.invokeFunction('convertToInteractive',\n",
              "                                                     [key], {});\n",
              "          if (!dataTable) return;\n",
              "\n",
              "          const docLinkHtml = 'Like what you see? Visit the ' +\n",
              "            '<a target=\"_blank\" href=https://colab.research.google.com/notebooks/data_table.ipynb>data table notebook</a>'\n",
              "            + ' to learn more about interactive tables.';\n",
              "          element.innerHTML = '';\n",
              "          dataTable['output_type'] = 'display_data';\n",
              "          await google.colab.output.renderOutput(dataTable, element);\n",
              "          const docLink = document.createElement('div');\n",
              "          docLink.innerHTML = docLinkHtml;\n",
              "          element.appendChild(docLink);\n",
              "        }\n",
              "      </script>\n",
              "    </div>\n",
              "  </div>\n",
              "  "
            ]
          },
          "metadata": {},
          "execution_count": 33
        }
      ]
    },
    {
      "cell_type": "code",
      "source": [
        "compare_metrics(calculate_metrics(sc_params_test, sc_predicted), calculate_metrics(sc_params_test, dist_predicted))"
      ],
      "metadata": {
        "colab": {
          "base_uri": "https://localhost:8080/"
        },
        "id": "iN3UhCOmAakK",
        "outputId": "33ee9466-c1ea-4387-9ce6-ffeaf2f0bed8"
      },
      "execution_count": null,
      "outputs": [
        {
          "output_type": "execute_result",
          "data": {
            "text/plain": [
              "0.8998259305337928"
            ]
          },
          "metadata": {},
          "execution_count": 31
        }
      ]
    },
    {
      "cell_type": "code",
      "source": [
        ""
      ],
      "metadata": {
        "id": "u1_S7KtdBrt1"
      },
      "execution_count": null,
      "outputs": []
    }
  ]
}